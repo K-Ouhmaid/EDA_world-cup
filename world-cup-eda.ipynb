{
 "cells": [
  {
   "cell_type": "code",
   "execution_count": 1,
   "id": "3d38637e",
   "metadata": {
    "_cell_guid": "b1076dfc-b9ad-4769-8c92-a6c4dae69d19",
    "_uuid": "8f2839f25d086af736a60e9eeb907d3b93b6e0e5",
    "execution": {
     "iopub.execute_input": "2022-09-06T21:58:28.273703Z",
     "iopub.status.busy": "2022-09-06T21:58:28.272284Z",
     "iopub.status.idle": "2022-09-06T21:58:30.741752Z",
     "shell.execute_reply": "2022-09-06T21:58:30.740453Z"
    },
    "papermill": {
     "duration": 2.48764,
     "end_time": "2022-09-06T21:58:30.744612",
     "exception": false,
     "start_time": "2022-09-06T21:58:28.256972",
     "status": "completed"
    },
    "tags": []
   },
   "outputs": [
    {
     "name": "stdout",
     "output_type": "stream",
     "text": [
      "/kaggle/input/fifa-world-cup/WorldCupPlayers.csv\n",
      "/kaggle/input/fifa-world-cup/WorldCupMatches.csv\n",
      "/kaggle/input/fifa-world-cup/WorldCups.csv\n"
     ]
    }
   ],
   "source": [
    "# This Python 3 environment comes with many helpful analytics libraries installed\n",
    "# It is defined by the kaggle/python Docker image: https://github.com/kaggle/docker-python\n",
    "# For example, here's several helpful packages to load\n",
    "\n",
    "import numpy as np # linear algebra\n",
    "import pandas as pd # data processing, CSV file I/O (e.g. pd.read_csv)\n",
    "import matplotlib.pyplot as plt\n",
    "import seaborn as sns\n",
    "%matplotlib inline\n",
    "import plotly as py\n",
    "import plotly.express as px\n",
    "\n",
    "# Input data files are available in the read-only \"../input/\" directory\n",
    "# For example, running this (by clicking run or pressing Shift+Enter) will list all files under the input directory\n",
    "\n",
    "import os\n",
    "for dirname, _, filenames in os.walk('/kaggle/input'):\n",
    "    for filename in filenames:\n",
    "        print(os.path.join(dirname, filename))\n",
    "\n",
    "# You can write up to 20GB to the current directory (/kaggle/working/) that gets preserved as output when you create a version using \"Save & Run All\" \n",
    "# You can also write temporary files to /kaggle/temp/, but they won't be saved outside of the current session"
   ]
  },
  {
   "cell_type": "code",
   "execution_count": 2,
   "id": "51eacf25",
   "metadata": {
    "execution": {
     "iopub.execute_input": "2022-09-06T21:58:30.771140Z",
     "iopub.status.busy": "2022-09-06T21:58:30.770695Z",
     "iopub.status.idle": "2022-09-06T21:58:30.888794Z",
     "shell.execute_reply": "2022-09-06T21:58:30.887502Z"
    },
    "papermill": {
     "duration": 0.134651,
     "end_time": "2022-09-06T21:58:30.891726",
     "exception": false,
     "start_time": "2022-09-06T21:58:30.757075",
     "status": "completed"
    },
    "tags": []
   },
   "outputs": [],
   "source": [
    "players = pd.read_csv(\"/kaggle/input/fifa-world-cup/WorldCupPlayers.csv\")\n",
    "matches = pd.read_csv(\"/kaggle/input/fifa-world-cup/WorldCupMatches.csv\")\n",
    "world_cup = pd.read_csv(\"/kaggle/input/fifa-world-cup/WorldCups.csv\")"
   ]
  },
  {
   "cell_type": "code",
   "execution_count": 3,
   "id": "ba20ed81",
   "metadata": {
    "execution": {
     "iopub.execute_input": "2022-09-06T21:58:30.920713Z",
     "iopub.status.busy": "2022-09-06T21:58:30.919611Z",
     "iopub.status.idle": "2022-09-06T21:58:30.944538Z",
     "shell.execute_reply": "2022-09-06T21:58:30.943417Z"
    },
    "papermill": {
     "duration": 0.042661,
     "end_time": "2022-09-06T21:58:30.947212",
     "exception": false,
     "start_time": "2022-09-06T21:58:30.904551",
     "status": "completed"
    },
    "tags": []
   },
   "outputs": [
    {
     "data": {
      "text/html": [
       "<div>\n",
       "<style scoped>\n",
       "    .dataframe tbody tr th:only-of-type {\n",
       "        vertical-align: middle;\n",
       "    }\n",
       "\n",
       "    .dataframe tbody tr th {\n",
       "        vertical-align: top;\n",
       "    }\n",
       "\n",
       "    .dataframe thead th {\n",
       "        text-align: right;\n",
       "    }\n",
       "</style>\n",
       "<table border=\"1\" class=\"dataframe\">\n",
       "  <thead>\n",
       "    <tr style=\"text-align: right;\">\n",
       "      <th></th>\n",
       "      <th>RoundID</th>\n",
       "      <th>MatchID</th>\n",
       "      <th>Team Initials</th>\n",
       "      <th>Coach Name</th>\n",
       "      <th>Line-up</th>\n",
       "      <th>Shirt Number</th>\n",
       "      <th>Player Name</th>\n",
       "      <th>Position</th>\n",
       "      <th>Event</th>\n",
       "    </tr>\n",
       "  </thead>\n",
       "  <tbody>\n",
       "    <tr>\n",
       "      <th>0</th>\n",
       "      <td>201</td>\n",
       "      <td>1096</td>\n",
       "      <td>FRA</td>\n",
       "      <td>CAUDRON Raoul (FRA)</td>\n",
       "      <td>S</td>\n",
       "      <td>0</td>\n",
       "      <td>Alex THEPOT</td>\n",
       "      <td>GK</td>\n",
       "      <td>NaN</td>\n",
       "    </tr>\n",
       "    <tr>\n",
       "      <th>1</th>\n",
       "      <td>201</td>\n",
       "      <td>1096</td>\n",
       "      <td>MEX</td>\n",
       "      <td>LUQUE Juan (MEX)</td>\n",
       "      <td>S</td>\n",
       "      <td>0</td>\n",
       "      <td>Oscar BONFIGLIO</td>\n",
       "      <td>GK</td>\n",
       "      <td>NaN</td>\n",
       "    </tr>\n",
       "  </tbody>\n",
       "</table>\n",
       "</div>"
      ],
      "text/plain": [
       "   RoundID  MatchID Team Initials           Coach Name Line-up  Shirt Number  \\\n",
       "0      201     1096           FRA  CAUDRON Raoul (FRA)       S             0   \n",
       "1      201     1096           MEX     LUQUE Juan (MEX)       S             0   \n",
       "\n",
       "       Player Name Position Event  \n",
       "0      Alex THEPOT       GK   NaN  \n",
       "1  Oscar BONFIGLIO       GK   NaN  "
      ]
     },
     "execution_count": 3,
     "metadata": {},
     "output_type": "execute_result"
    }
   ],
   "source": [
    "players.head(2)"
   ]
  },
  {
   "cell_type": "code",
   "execution_count": 4,
   "id": "5f1448da",
   "metadata": {
    "execution": {
     "iopub.execute_input": "2022-09-06T21:58:30.974689Z",
     "iopub.status.busy": "2022-09-06T21:58:30.973537Z",
     "iopub.status.idle": "2022-09-06T21:58:30.996627Z",
     "shell.execute_reply": "2022-09-06T21:58:30.995430Z"
    },
    "papermill": {
     "duration": 0.040167,
     "end_time": "2022-09-06T21:58:30.999973",
     "exception": false,
     "start_time": "2022-09-06T21:58:30.959806",
     "status": "completed"
    },
    "tags": []
   },
   "outputs": [
    {
     "data": {
      "text/html": [
       "<div>\n",
       "<style scoped>\n",
       "    .dataframe tbody tr th:only-of-type {\n",
       "        vertical-align: middle;\n",
       "    }\n",
       "\n",
       "    .dataframe tbody tr th {\n",
       "        vertical-align: top;\n",
       "    }\n",
       "\n",
       "    .dataframe thead th {\n",
       "        text-align: right;\n",
       "    }\n",
       "</style>\n",
       "<table border=\"1\" class=\"dataframe\">\n",
       "  <thead>\n",
       "    <tr style=\"text-align: right;\">\n",
       "      <th></th>\n",
       "      <th>Year</th>\n",
       "      <th>Datetime</th>\n",
       "      <th>Stage</th>\n",
       "      <th>Stadium</th>\n",
       "      <th>City</th>\n",
       "      <th>Home Team Name</th>\n",
       "      <th>Home Team Goals</th>\n",
       "      <th>Away Team Goals</th>\n",
       "      <th>Away Team Name</th>\n",
       "      <th>Win conditions</th>\n",
       "      <th>Attendance</th>\n",
       "      <th>Half-time Home Goals</th>\n",
       "      <th>Half-time Away Goals</th>\n",
       "      <th>Referee</th>\n",
       "      <th>Assistant 1</th>\n",
       "      <th>Assistant 2</th>\n",
       "      <th>RoundID</th>\n",
       "      <th>MatchID</th>\n",
       "      <th>Home Team Initials</th>\n",
       "      <th>Away Team Initials</th>\n",
       "    </tr>\n",
       "  </thead>\n",
       "  <tbody>\n",
       "    <tr>\n",
       "      <th>0</th>\n",
       "      <td>1930.0</td>\n",
       "      <td>13 Jul 1930 - 15:00</td>\n",
       "      <td>Group 1</td>\n",
       "      <td>Pocitos</td>\n",
       "      <td>Montevideo</td>\n",
       "      <td>France</td>\n",
       "      <td>4.0</td>\n",
       "      <td>1.0</td>\n",
       "      <td>Mexico</td>\n",
       "      <td></td>\n",
       "      <td>4444.0</td>\n",
       "      <td>3.0</td>\n",
       "      <td>0.0</td>\n",
       "      <td>LOMBARDI Domingo (URU)</td>\n",
       "      <td>CRISTOPHE Henry (BEL)</td>\n",
       "      <td>REGO Gilberto (BRA)</td>\n",
       "      <td>201.0</td>\n",
       "      <td>1096.0</td>\n",
       "      <td>FRA</td>\n",
       "      <td>MEX</td>\n",
       "    </tr>\n",
       "    <tr>\n",
       "      <th>1</th>\n",
       "      <td>1930.0</td>\n",
       "      <td>13 Jul 1930 - 15:00</td>\n",
       "      <td>Group 4</td>\n",
       "      <td>Parque Central</td>\n",
       "      <td>Montevideo</td>\n",
       "      <td>USA</td>\n",
       "      <td>3.0</td>\n",
       "      <td>0.0</td>\n",
       "      <td>Belgium</td>\n",
       "      <td></td>\n",
       "      <td>18346.0</td>\n",
       "      <td>2.0</td>\n",
       "      <td>0.0</td>\n",
       "      <td>MACIAS Jose (ARG)</td>\n",
       "      <td>MATEUCCI Francisco (URU)</td>\n",
       "      <td>WARNKEN Alberto (CHI)</td>\n",
       "      <td>201.0</td>\n",
       "      <td>1090.0</td>\n",
       "      <td>USA</td>\n",
       "      <td>BEL</td>\n",
       "    </tr>\n",
       "  </tbody>\n",
       "</table>\n",
       "</div>"
      ],
      "text/plain": [
       "     Year              Datetime    Stage         Stadium         City  \\\n",
       "0  1930.0  13 Jul 1930 - 15:00   Group 1         Pocitos  Montevideo    \n",
       "1  1930.0  13 Jul 1930 - 15:00   Group 4  Parque Central  Montevideo    \n",
       "\n",
       "  Home Team Name  Home Team Goals  Away Team Goals Away Team Name  \\\n",
       "0         France              4.0              1.0         Mexico   \n",
       "1            USA              3.0              0.0        Belgium   \n",
       "\n",
       "  Win conditions  Attendance  Half-time Home Goals  Half-time Away Goals  \\\n",
       "0                     4444.0                   3.0                   0.0   \n",
       "1                    18346.0                   2.0                   0.0   \n",
       "\n",
       "                  Referee               Assistant 1            Assistant 2  \\\n",
       "0  LOMBARDI Domingo (URU)     CRISTOPHE Henry (BEL)    REGO Gilberto (BRA)   \n",
       "1       MACIAS Jose (ARG)  MATEUCCI Francisco (URU)  WARNKEN Alberto (CHI)   \n",
       "\n",
       "   RoundID  MatchID Home Team Initials Away Team Initials  \n",
       "0    201.0   1096.0                FRA                MEX  \n",
       "1    201.0   1090.0                USA                BEL  "
      ]
     },
     "execution_count": 4,
     "metadata": {},
     "output_type": "execute_result"
    }
   ],
   "source": [
    "matches.head(2)"
   ]
  },
  {
   "cell_type": "code",
   "execution_count": 5,
   "id": "37214b3f",
   "metadata": {
    "execution": {
     "iopub.execute_input": "2022-09-06T21:58:31.027974Z",
     "iopub.status.busy": "2022-09-06T21:58:31.027551Z",
     "iopub.status.idle": "2022-09-06T21:58:31.042898Z",
     "shell.execute_reply": "2022-09-06T21:58:31.041621Z"
    },
    "papermill": {
     "duration": 0.031985,
     "end_time": "2022-09-06T21:58:31.045462",
     "exception": false,
     "start_time": "2022-09-06T21:58:31.013477",
     "status": "completed"
    },
    "tags": []
   },
   "outputs": [
    {
     "data": {
      "text/html": [
       "<div>\n",
       "<style scoped>\n",
       "    .dataframe tbody tr th:only-of-type {\n",
       "        vertical-align: middle;\n",
       "    }\n",
       "\n",
       "    .dataframe tbody tr th {\n",
       "        vertical-align: top;\n",
       "    }\n",
       "\n",
       "    .dataframe thead th {\n",
       "        text-align: right;\n",
       "    }\n",
       "</style>\n",
       "<table border=\"1\" class=\"dataframe\">\n",
       "  <thead>\n",
       "    <tr style=\"text-align: right;\">\n",
       "      <th></th>\n",
       "      <th>Year</th>\n",
       "      <th>Country</th>\n",
       "      <th>Winner</th>\n",
       "      <th>Runners-Up</th>\n",
       "      <th>Third</th>\n",
       "      <th>Fourth</th>\n",
       "      <th>GoalsScored</th>\n",
       "      <th>QualifiedTeams</th>\n",
       "      <th>MatchesPlayed</th>\n",
       "      <th>Attendance</th>\n",
       "    </tr>\n",
       "  </thead>\n",
       "  <tbody>\n",
       "    <tr>\n",
       "      <th>0</th>\n",
       "      <td>1930</td>\n",
       "      <td>Uruguay</td>\n",
       "      <td>Uruguay</td>\n",
       "      <td>Argentina</td>\n",
       "      <td>USA</td>\n",
       "      <td>Yugoslavia</td>\n",
       "      <td>70</td>\n",
       "      <td>13</td>\n",
       "      <td>18</td>\n",
       "      <td>590.549</td>\n",
       "    </tr>\n",
       "    <tr>\n",
       "      <th>1</th>\n",
       "      <td>1934</td>\n",
       "      <td>Italy</td>\n",
       "      <td>Italy</td>\n",
       "      <td>Czechoslovakia</td>\n",
       "      <td>Germany</td>\n",
       "      <td>Austria</td>\n",
       "      <td>70</td>\n",
       "      <td>16</td>\n",
       "      <td>17</td>\n",
       "      <td>363.000</td>\n",
       "    </tr>\n",
       "  </tbody>\n",
       "</table>\n",
       "</div>"
      ],
      "text/plain": [
       "   Year  Country   Winner      Runners-Up    Third      Fourth  GoalsScored  \\\n",
       "0  1930  Uruguay  Uruguay       Argentina      USA  Yugoslavia           70   \n",
       "1  1934    Italy    Italy  Czechoslovakia  Germany     Austria           70   \n",
       "\n",
       "   QualifiedTeams  MatchesPlayed Attendance  \n",
       "0              13             18    590.549  \n",
       "1              16             17    363.000  "
      ]
     },
     "execution_count": 5,
     "metadata": {},
     "output_type": "execute_result"
    }
   ],
   "source": [
    "world_cup.head(2)"
   ]
  },
  {
   "cell_type": "markdown",
   "id": "7ec23826",
   "metadata": {
    "papermill": {
     "duration": 0.012536,
     "end_time": "2022-09-06T21:58:31.071147",
     "exception": false,
     "start_time": "2022-09-06T21:58:31.058611",
     "status": "completed"
    },
    "tags": []
   },
   "source": [
    "# # Players"
   ]
  },
  {
   "cell_type": "code",
   "execution_count": 6,
   "id": "1d1fb630",
   "metadata": {
    "execution": {
     "iopub.execute_input": "2022-09-06T21:58:31.099364Z",
     "iopub.status.busy": "2022-09-06T21:58:31.098527Z",
     "iopub.status.idle": "2022-09-06T21:58:31.105752Z",
     "shell.execute_reply": "2022-09-06T21:58:31.104697Z"
    },
    "papermill": {
     "duration": 0.024087,
     "end_time": "2022-09-06T21:58:31.108078",
     "exception": false,
     "start_time": "2022-09-06T21:58:31.083991",
     "status": "completed"
    },
    "tags": []
   },
   "outputs": [
    {
     "data": {
      "text/plain": [
       "(37784, 9)"
      ]
     },
     "execution_count": 6,
     "metadata": {},
     "output_type": "execute_result"
    }
   ],
   "source": [
    "players.shape"
   ]
  },
  {
   "cell_type": "code",
   "execution_count": 7,
   "id": "41c59997",
   "metadata": {
    "execution": {
     "iopub.execute_input": "2022-09-06T21:58:31.136301Z",
     "iopub.status.busy": "2022-09-06T21:58:31.135542Z",
     "iopub.status.idle": "2022-09-06T21:58:31.155202Z",
     "shell.execute_reply": "2022-09-06T21:58:31.153760Z"
    },
    "papermill": {
     "duration": 0.036886,
     "end_time": "2022-09-06T21:58:31.158012",
     "exception": false,
     "start_time": "2022-09-06T21:58:31.121126",
     "status": "completed"
    },
    "tags": []
   },
   "outputs": [
    {
     "data": {
      "text/plain": [
       "RoundID              0\n",
       "MatchID              0\n",
       "Team Initials        0\n",
       "Coach Name           0\n",
       "Line-up              0\n",
       "Shirt Number         0\n",
       "Player Name          0\n",
       "Position         33641\n",
       "Event            28715\n",
       "dtype: int64"
      ]
     },
     "execution_count": 7,
     "metadata": {},
     "output_type": "execute_result"
    }
   ],
   "source": [
    "players.isnull().sum()"
   ]
  },
  {
   "cell_type": "code",
   "execution_count": 8,
   "id": "cb4845bb",
   "metadata": {
    "execution": {
     "iopub.execute_input": "2022-09-06T21:58:31.187600Z",
     "iopub.status.busy": "2022-09-06T21:58:31.186188Z",
     "iopub.status.idle": "2022-09-06T21:58:31.203216Z",
     "shell.execute_reply": "2022-09-06T21:58:31.202156Z"
    },
    "papermill": {
     "duration": 0.034107,
     "end_time": "2022-09-06T21:58:31.205585",
     "exception": false,
     "start_time": "2022-09-06T21:58:31.171478",
     "status": "completed"
    },
    "tags": []
   },
   "outputs": [
    {
     "data": {
      "text/plain": [
       "N    19040\n",
       "S    18744\n",
       "Name: Line-up, dtype: int64"
      ]
     },
     "execution_count": 8,
     "metadata": {},
     "output_type": "execute_result"
    }
   ],
   "source": [
    "players['Line-up'].value_counts()"
   ]
  },
  {
   "cell_type": "code",
   "execution_count": 9,
   "id": "2c5457ad",
   "metadata": {
    "execution": {
     "iopub.execute_input": "2022-09-06T21:58:31.234488Z",
     "iopub.status.busy": "2022-09-06T21:58:31.233827Z",
     "iopub.status.idle": "2022-09-06T21:58:31.251353Z",
     "shell.execute_reply": "2022-09-06T21:58:31.250442Z"
    },
    "papermill": {
     "duration": 0.034713,
     "end_time": "2022-09-06T21:58:31.253830",
     "exception": false,
     "start_time": "2022-09-06T21:58:31.219117",
     "status": "completed"
    },
    "tags": []
   },
   "outputs": [],
   "source": [
    "\n",
    "coaches=players.groupby([\"Coach Name\"]).size().reset_index().rename(columns={0:\"num\"})"
   ]
  },
  {
   "cell_type": "code",
   "execution_count": 10,
   "id": "1ae05355",
   "metadata": {
    "execution": {
     "iopub.execute_input": "2022-09-06T21:58:31.282505Z",
     "iopub.status.busy": "2022-09-06T21:58:31.281855Z",
     "iopub.status.idle": "2022-09-06T21:58:31.299648Z",
     "shell.execute_reply": "2022-09-06T21:58:31.298463Z"
    },
    "papermill": {
     "duration": 0.034954,
     "end_time": "2022-09-06T21:58:31.302137",
     "exception": false,
     "start_time": "2022-09-06T21:58:31.267183",
     "status": "completed"
    },
    "tags": []
   },
   "outputs": [
    {
     "name": "stdout",
     "output_type": "stream",
     "text": [
      "the top 10 coaches palyes matches\n"
     ]
    },
    {
     "data": {
      "text/html": [
       "<div>\n",
       "<style scoped>\n",
       "    .dataframe tbody tr th:only-of-type {\n",
       "        vertical-align: middle;\n",
       "    }\n",
       "\n",
       "    .dataframe tbody tr th {\n",
       "        vertical-align: top;\n",
       "    }\n",
       "\n",
       "    .dataframe thead th {\n",
       "        text-align: right;\n",
       "    }\n",
       "</style>\n",
       "<table border=\"1\" class=\"dataframe\">\n",
       "  <thead>\n",
       "    <tr style=\"text-align: right;\">\n",
       "      <th></th>\n",
       "      <th>Coach Name</th>\n",
       "      <th>num</th>\n",
       "    </tr>\n",
       "  </thead>\n",
       "  <tbody>\n",
       "    <tr>\n",
       "      <th>278</th>\n",
       "      <td>SCOLARI Luiz Felipe (BRA)</td>\n",
       "      <td>575</td>\n",
       "    </tr>\n",
       "    <tr>\n",
       "      <th>277</th>\n",
       "      <td>SCHOEN Helmut (FRG)</td>\n",
       "      <td>550</td>\n",
       "    </tr>\n",
       "    <tr>\n",
       "      <th>222</th>\n",
       "      <td>PARREIRA Carlos Alberto (BRA)</td>\n",
       "      <td>514</td>\n",
       "    </tr>\n",
       "    <tr>\n",
       "      <th>189</th>\n",
       "      <td>MILUTINOVIC Bora (YUG)</td>\n",
       "      <td>443</td>\n",
       "    </tr>\n",
       "    <tr>\n",
       "      <th>333</th>\n",
       "      <td>ZAGALLO Mario (BRA)</td>\n",
       "      <td>440</td>\n",
       "    </tr>\n",
       "    <tr>\n",
       "      <th>159</th>\n",
       "      <td>LOEW Joachim (GER)</td>\n",
       "      <td>414</td>\n",
       "    </tr>\n",
       "    <tr>\n",
       "      <th>110</th>\n",
       "      <td>HIDDINK Guus (NED)</td>\n",
       "      <td>407</td>\n",
       "    </tr>\n",
       "    <tr>\n",
       "      <th>18</th>\n",
       "      <td>BEARZOT Enzo (ITA)</td>\n",
       "      <td>396</td>\n",
       "    </tr>\n",
       "    <tr>\n",
       "      <th>104</th>\n",
       "      <td>HERBERGER Sepp (FRG)</td>\n",
       "      <td>396</td>\n",
       "    </tr>\n",
       "    <tr>\n",
       "      <th>297</th>\n",
       "      <td>TABAREZ Oscar (URU)</td>\n",
       "      <td>364</td>\n",
       "    </tr>\n",
       "  </tbody>\n",
       "</table>\n",
       "</div>"
      ],
      "text/plain": [
       "                        Coach Name  num\n",
       "278      SCOLARI Luiz Felipe (BRA)  575\n",
       "277            SCHOEN Helmut (FRG)  550\n",
       "222  PARREIRA Carlos Alberto (BRA)  514\n",
       "189         MILUTINOVIC Bora (YUG)  443\n",
       "333            ZAGALLO Mario (BRA)  440\n",
       "159             LOEW Joachim (GER)  414\n",
       "110             HIDDINK Guus (NED)  407\n",
       "18              BEARZOT Enzo (ITA)  396\n",
       "104           HERBERGER Sepp (FRG)  396\n",
       "297            TABAREZ Oscar (URU)  364"
      ]
     },
     "execution_count": 10,
     "metadata": {},
     "output_type": "execute_result"
    }
   ],
   "source": [
    "print(\"the top 10 coaches palyes matches\")\n",
    "coaches.nlargest(10, 'num')"
   ]
  },
  {
   "cell_type": "code",
   "execution_count": 11,
   "id": "346fe957",
   "metadata": {
    "execution": {
     "iopub.execute_input": "2022-09-06T21:58:31.330945Z",
     "iopub.status.busy": "2022-09-06T21:58:31.330417Z",
     "iopub.status.idle": "2022-09-06T21:58:31.334654Z",
     "shell.execute_reply": "2022-09-06T21:58:31.333715Z"
    },
    "papermill": {
     "duration": 0.021348,
     "end_time": "2022-09-06T21:58:31.337013",
     "exception": false,
     "start_time": "2022-09-06T21:58:31.315665",
     "status": "completed"
    },
    "tags": []
   },
   "outputs": [],
   "source": [
    "#players.rename(columns={'Team initials': 'newName1', 'oldName2': 'newName2'}, inplace=True)\n"
   ]
  },
  {
   "cell_type": "code",
   "execution_count": 12,
   "id": "3fdcbfdd",
   "metadata": {
    "execution": {
     "iopub.execute_input": "2022-09-06T21:58:31.365634Z",
     "iopub.status.busy": "2022-09-06T21:58:31.364878Z",
     "iopub.status.idle": "2022-09-06T21:58:31.383732Z",
     "shell.execute_reply": "2022-09-06T21:58:31.382516Z"
    },
    "papermill": {
     "duration": 0.036174,
     "end_time": "2022-09-06T21:58:31.386469",
     "exception": false,
     "start_time": "2022-09-06T21:58:31.350295",
     "status": "completed"
    },
    "tags": []
   },
   "outputs": [],
   "source": [
    "playersp = players\\\n",
    "                            .groupby([\"Player Name\"])\\\n",
    "                            .size()\\\n",
    "                            .reset_index()\\\n",
    "                            .rename(columns={0:\"num\"})"
   ]
  },
  {
   "cell_type": "code",
   "execution_count": 13,
   "id": "4a769f05",
   "metadata": {
    "execution": {
     "iopub.execute_input": "2022-09-06T21:58:31.415764Z",
     "iopub.status.busy": "2022-09-06T21:58:31.415237Z",
     "iopub.status.idle": "2022-09-06T21:58:31.429475Z",
     "shell.execute_reply": "2022-09-06T21:58:31.428522Z"
    },
    "papermill": {
     "duration": 0.031554,
     "end_time": "2022-09-06T21:58:31.431639",
     "exception": false,
     "start_time": "2022-09-06T21:58:31.400085",
     "status": "completed"
    },
    "tags": []
   },
   "outputs": [
    {
     "name": "stdout",
     "output_type": "stream",
     "text": [
      "the top 10 players palyes matches\n"
     ]
    },
    {
     "data": {
      "text/html": [
       "<div>\n",
       "<style scoped>\n",
       "    .dataframe tbody tr th:only-of-type {\n",
       "        vertical-align: middle;\n",
       "    }\n",
       "\n",
       "    .dataframe tbody tr th {\n",
       "        vertical-align: top;\n",
       "    }\n",
       "\n",
       "    .dataframe thead th {\n",
       "        text-align: right;\n",
       "    }\n",
       "</style>\n",
       "<table border=\"1\" class=\"dataframe\">\n",
       "  <thead>\n",
       "    <tr style=\"text-align: right;\">\n",
       "      <th></th>\n",
       "      <th>Player Name</th>\n",
       "      <th>num</th>\n",
       "    </tr>\n",
       "  </thead>\n",
       "  <tbody>\n",
       "    <tr>\n",
       "      <th>6029</th>\n",
       "      <td>RONALDO</td>\n",
       "      <td>33</td>\n",
       "    </tr>\n",
       "    <tr>\n",
       "      <th>4066</th>\n",
       "      <td>KLOSE</td>\n",
       "      <td>32</td>\n",
       "    </tr>\n",
       "    <tr>\n",
       "      <th>5201</th>\n",
       "      <td>M�LLER</td>\n",
       "      <td>28</td>\n",
       "    </tr>\n",
       "    <tr>\n",
       "      <th>5464</th>\n",
       "      <td>OSCAR</td>\n",
       "      <td>28</td>\n",
       "    </tr>\n",
       "    <tr>\n",
       "      <th>1107</th>\n",
       "      <td>CAFU</td>\n",
       "      <td>26</td>\n",
       "    </tr>\n",
       "    <tr>\n",
       "      <th>3400</th>\n",
       "      <td>JULIO CESAR</td>\n",
       "      <td>26</td>\n",
       "    </tr>\n",
       "    <tr>\n",
       "      <th>1530</th>\n",
       "      <td>DIDA</td>\n",
       "      <td>25</td>\n",
       "    </tr>\n",
       "    <tr>\n",
       "      <th>4259</th>\n",
       "      <td>LAHM</td>\n",
       "      <td>25</td>\n",
       "    </tr>\n",
       "    <tr>\n",
       "      <th>4285</th>\n",
       "      <td>LEAO</td>\n",
       "      <td>25</td>\n",
       "    </tr>\n",
       "    <tr>\n",
       "      <th>4725</th>\n",
       "      <td>MERTESACKER</td>\n",
       "      <td>25</td>\n",
       "    </tr>\n",
       "  </tbody>\n",
       "</table>\n",
       "</div>"
      ],
      "text/plain": [
       "      Player Name  num\n",
       "6029      RONALDO   33\n",
       "4066        KLOSE   32\n",
       "5201       M�LLER   28\n",
       "5464        OSCAR   28\n",
       "1107         CAFU   26\n",
       "3400  JULIO CESAR   26\n",
       "1530         DIDA   25\n",
       "4259         LAHM   25\n",
       "4285         LEAO   25\n",
       "4725  MERTESACKER   25"
      ]
     },
     "execution_count": 13,
     "metadata": {},
     "output_type": "execute_result"
    }
   ],
   "source": [
    "print(\"the top 10 players palyes matches\")\n",
    "playersp.nlargest(10, 'num')"
   ]
  },
  {
   "cell_type": "code",
   "execution_count": 14,
   "id": "e78c53aa",
   "metadata": {
    "execution": {
     "iopub.execute_input": "2022-09-06T21:58:31.461342Z",
     "iopub.status.busy": "2022-09-06T21:58:31.460931Z",
     "iopub.status.idle": "2022-09-06T21:58:31.466057Z",
     "shell.execute_reply": "2022-09-06T21:58:31.464837Z"
    },
    "papermill": {
     "duration": 0.02285,
     "end_time": "2022-09-06T21:58:31.468500",
     "exception": false,
     "start_time": "2022-09-06T21:58:31.445650",
     "status": "completed"
    },
    "tags": []
   },
   "outputs": [],
   "source": [
    "# import seaborn as sns\n",
    "# sns.set_theme(style=\"whitegrid\")\n",
    "# sns.set(rc={'figure.figsize':(20,8.27)})\n",
    "\n",
    "# ax = sns.barplot(x=\"Player Name\", y=\"num\", data=dff)"
   ]
  },
  {
   "cell_type": "code",
   "execution_count": 15,
   "id": "6f4214d4",
   "metadata": {
    "execution": {
     "iopub.execute_input": "2022-09-06T21:58:31.498927Z",
     "iopub.status.busy": "2022-09-06T21:58:31.498165Z",
     "iopub.status.idle": "2022-09-06T21:58:31.503061Z",
     "shell.execute_reply": "2022-09-06T21:58:31.501881Z"
    },
    "papermill": {
     "duration": 0.022827,
     "end_time": "2022-09-06T21:58:31.505765",
     "exception": false,
     "start_time": "2022-09-06T21:58:31.482938",
     "status": "completed"
    },
    "tags": []
   },
   "outputs": [],
   "source": [
    "# import plotly.express as px\n",
    "\n",
    "# px.line(dff,x='Player Name',y='num', color = 'Player Name')"
   ]
  },
  {
   "cell_type": "code",
   "execution_count": 16,
   "id": "94533394",
   "metadata": {
    "execution": {
     "iopub.execute_input": "2022-09-06T21:58:31.535563Z",
     "iopub.status.busy": "2022-09-06T21:58:31.535089Z",
     "iopub.status.idle": "2022-09-06T21:58:31.546865Z",
     "shell.execute_reply": "2022-09-06T21:58:31.545655Z"
    },
    "papermill": {
     "duration": 0.030024,
     "end_time": "2022-09-06T21:58:31.549694",
     "exception": false,
     "start_time": "2022-09-06T21:58:31.519670",
     "status": "completed"
    },
    "tags": []
   },
   "outputs": [],
   "source": [
    "teams = players\\\n",
    "                            .groupby([\"Team Initials\"])\\\n",
    "                            .size()\\\n",
    "                            .reset_index()\\\n",
    "                            .rename(columns={0:\"num\"})"
   ]
  },
  {
   "cell_type": "code",
   "execution_count": 17,
   "id": "09e7cf2f",
   "metadata": {
    "execution": {
     "iopub.execute_input": "2022-09-06T21:58:31.578917Z",
     "iopub.status.busy": "2022-09-06T21:58:31.578490Z",
     "iopub.status.idle": "2022-09-06T21:58:31.591778Z",
     "shell.execute_reply": "2022-09-06T21:58:31.590741Z"
    },
    "papermill": {
     "duration": 0.030602,
     "end_time": "2022-09-06T21:58:31.593949",
     "exception": false,
     "start_time": "2022-09-06T21:58:31.563347",
     "status": "completed"
    },
    "tags": []
   },
   "outputs": [
    {
     "name": "stdout",
     "output_type": "stream",
     "text": [
      "the top 10 teams palyes matches\n"
     ]
    },
    {
     "data": {
      "text/html": [
       "<div>\n",
       "<style scoped>\n",
       "    .dataframe tbody tr th:only-of-type {\n",
       "        vertical-align: middle;\n",
       "    }\n",
       "\n",
       "    .dataframe tbody tr th {\n",
       "        vertical-align: top;\n",
       "    }\n",
       "\n",
       "    .dataframe thead th {\n",
       "        text-align: right;\n",
       "    }\n",
       "</style>\n",
       "<table border=\"1\" class=\"dataframe\">\n",
       "  <thead>\n",
       "    <tr style=\"text-align: right;\">\n",
       "      <th></th>\n",
       "      <th>Team Initials</th>\n",
       "      <th>num</th>\n",
       "    </tr>\n",
       "  </thead>\n",
       "  <tbody>\n",
       "    <tr>\n",
       "      <th>8</th>\n",
       "      <td>BRA</td>\n",
       "      <td>2403</td>\n",
       "    </tr>\n",
       "    <tr>\n",
       "      <th>39</th>\n",
       "      <td>ITA</td>\n",
       "      <td>1843</td>\n",
       "    </tr>\n",
       "    <tr>\n",
       "      <th>2</th>\n",
       "      <td>ARG</td>\n",
       "      <td>1807</td>\n",
       "    </tr>\n",
       "    <tr>\n",
       "      <th>23</th>\n",
       "      <td>ENG</td>\n",
       "      <td>1378</td>\n",
       "    </tr>\n",
       "    <tr>\n",
       "      <th>26</th>\n",
       "      <td>FRG</td>\n",
       "      <td>1364</td>\n",
       "    </tr>\n",
       "    <tr>\n",
       "      <th>25</th>\n",
       "      <td>FRA</td>\n",
       "      <td>1344</td>\n",
       "    </tr>\n",
       "    <tr>\n",
       "      <th>24</th>\n",
       "      <td>ESP</td>\n",
       "      <td>1317</td>\n",
       "    </tr>\n",
       "    <tr>\n",
       "      <th>47</th>\n",
       "      <td>NED</td>\n",
       "      <td>1210</td>\n",
       "    </tr>\n",
       "    <tr>\n",
       "      <th>46</th>\n",
       "      <td>MEX</td>\n",
       "      <td>1190</td>\n",
       "    </tr>\n",
       "    <tr>\n",
       "      <th>77</th>\n",
       "      <td>URU</td>\n",
       "      <td>1159</td>\n",
       "    </tr>\n",
       "  </tbody>\n",
       "</table>\n",
       "</div>"
      ],
      "text/plain": [
       "   Team Initials   num\n",
       "8            BRA  2403\n",
       "39           ITA  1843\n",
       "2            ARG  1807\n",
       "23           ENG  1378\n",
       "26           FRG  1364\n",
       "25           FRA  1344\n",
       "24           ESP  1317\n",
       "47           NED  1210\n",
       "46           MEX  1190\n",
       "77           URU  1159"
      ]
     },
     "execution_count": 17,
     "metadata": {},
     "output_type": "execute_result"
    }
   ],
   "source": [
    "print(\"the top 10 teams palyes matches\")\n",
    "teams.nlargest(10, 'num')"
   ]
  },
  {
   "cell_type": "markdown",
   "id": "2f9e9640",
   "metadata": {
    "papermill": {
     "duration": 0.013624,
     "end_time": "2022-09-06T21:58:31.621626",
     "exception": false,
     "start_time": "2022-09-06T21:58:31.608002",
     "status": "completed"
    },
    "tags": []
   },
   "source": [
    " # world_cup"
   ]
  },
  {
   "cell_type": "code",
   "execution_count": 18,
   "id": "a4e6c956",
   "metadata": {
    "execution": {
     "iopub.execute_input": "2022-09-06T21:58:31.651515Z",
     "iopub.status.busy": "2022-09-06T21:58:31.651070Z",
     "iopub.status.idle": "2022-09-06T21:58:31.665707Z",
     "shell.execute_reply": "2022-09-06T21:58:31.664814Z"
    },
    "papermill": {
     "duration": 0.032216,
     "end_time": "2022-09-06T21:58:31.667805",
     "exception": false,
     "start_time": "2022-09-06T21:58:31.635589",
     "status": "completed"
    },
    "tags": []
   },
   "outputs": [
    {
     "data": {
      "text/html": [
       "<div>\n",
       "<style scoped>\n",
       "    .dataframe tbody tr th:only-of-type {\n",
       "        vertical-align: middle;\n",
       "    }\n",
       "\n",
       "    .dataframe tbody tr th {\n",
       "        vertical-align: top;\n",
       "    }\n",
       "\n",
       "    .dataframe thead th {\n",
       "        text-align: right;\n",
       "    }\n",
       "</style>\n",
       "<table border=\"1\" class=\"dataframe\">\n",
       "  <thead>\n",
       "    <tr style=\"text-align: right;\">\n",
       "      <th></th>\n",
       "      <th>Year</th>\n",
       "      <th>Country</th>\n",
       "      <th>Winner</th>\n",
       "      <th>Runners-Up</th>\n",
       "      <th>Third</th>\n",
       "      <th>Fourth</th>\n",
       "      <th>GoalsScored</th>\n",
       "      <th>QualifiedTeams</th>\n",
       "      <th>MatchesPlayed</th>\n",
       "      <th>Attendance</th>\n",
       "    </tr>\n",
       "  </thead>\n",
       "  <tbody>\n",
       "    <tr>\n",
       "      <th>0</th>\n",
       "      <td>1930</td>\n",
       "      <td>Uruguay</td>\n",
       "      <td>Uruguay</td>\n",
       "      <td>Argentina</td>\n",
       "      <td>USA</td>\n",
       "      <td>Yugoslavia</td>\n",
       "      <td>70</td>\n",
       "      <td>13</td>\n",
       "      <td>18</td>\n",
       "      <td>590.549</td>\n",
       "    </tr>\n",
       "    <tr>\n",
       "      <th>1</th>\n",
       "      <td>1934</td>\n",
       "      <td>Italy</td>\n",
       "      <td>Italy</td>\n",
       "      <td>Czechoslovakia</td>\n",
       "      <td>Germany</td>\n",
       "      <td>Austria</td>\n",
       "      <td>70</td>\n",
       "      <td>16</td>\n",
       "      <td>17</td>\n",
       "      <td>363.000</td>\n",
       "    </tr>\n",
       "  </tbody>\n",
       "</table>\n",
       "</div>"
      ],
      "text/plain": [
       "   Year  Country   Winner      Runners-Up    Third      Fourth  GoalsScored  \\\n",
       "0  1930  Uruguay  Uruguay       Argentina      USA  Yugoslavia           70   \n",
       "1  1934    Italy    Italy  Czechoslovakia  Germany     Austria           70   \n",
       "\n",
       "   QualifiedTeams  MatchesPlayed Attendance  \n",
       "0              13             18    590.549  \n",
       "1              16             17    363.000  "
      ]
     },
     "execution_count": 18,
     "metadata": {},
     "output_type": "execute_result"
    }
   ],
   "source": [
    "world_cup.head(2)"
   ]
  },
  {
   "cell_type": "code",
   "execution_count": 19,
   "id": "ceee200b",
   "metadata": {
    "execution": {
     "iopub.execute_input": "2022-09-06T21:58:31.697928Z",
     "iopub.status.busy": "2022-09-06T21:58:31.697516Z",
     "iopub.status.idle": "2022-09-06T21:58:31.712567Z",
     "shell.execute_reply": "2022-09-06T21:58:31.711428Z"
    },
    "papermill": {
     "duration": 0.032984,
     "end_time": "2022-09-06T21:58:31.715035",
     "exception": false,
     "start_time": "2022-09-06T21:58:31.682051",
     "status": "completed"
    },
    "tags": []
   },
   "outputs": [
    {
     "data": {
      "text/html": [
       "<div>\n",
       "<style scoped>\n",
       "    .dataframe tbody tr th:only-of-type {\n",
       "        vertical-align: middle;\n",
       "    }\n",
       "\n",
       "    .dataframe tbody tr th {\n",
       "        vertical-align: top;\n",
       "    }\n",
       "\n",
       "    .dataframe thead th {\n",
       "        text-align: right;\n",
       "    }\n",
       "</style>\n",
       "<table border=\"1\" class=\"dataframe\">\n",
       "  <thead>\n",
       "    <tr style=\"text-align: right;\">\n",
       "      <th></th>\n",
       "      <th>Year</th>\n",
       "      <th>Country</th>\n",
       "      <th>Winner</th>\n",
       "      <th>Runners-Up</th>\n",
       "      <th>Third</th>\n",
       "      <th>Fourth</th>\n",
       "      <th>GoalsScored</th>\n",
       "      <th>QualifiedTeams</th>\n",
       "      <th>MatchesPlayed</th>\n",
       "      <th>Attendance</th>\n",
       "    </tr>\n",
       "  </thead>\n",
       "  <tbody>\n",
       "    <tr>\n",
       "      <th>18</th>\n",
       "      <td>2010</td>\n",
       "      <td>South Africa</td>\n",
       "      <td>Spain</td>\n",
       "      <td>Netherlands</td>\n",
       "      <td>Germany</td>\n",
       "      <td>Uruguay</td>\n",
       "      <td>145</td>\n",
       "      <td>32</td>\n",
       "      <td>64</td>\n",
       "      <td>3.178.856</td>\n",
       "    </tr>\n",
       "    <tr>\n",
       "      <th>19</th>\n",
       "      <td>2014</td>\n",
       "      <td>Brazil</td>\n",
       "      <td>Germany</td>\n",
       "      <td>Argentina</td>\n",
       "      <td>Netherlands</td>\n",
       "      <td>Brazil</td>\n",
       "      <td>171</td>\n",
       "      <td>32</td>\n",
       "      <td>64</td>\n",
       "      <td>3.386.810</td>\n",
       "    </tr>\n",
       "  </tbody>\n",
       "</table>\n",
       "</div>"
      ],
      "text/plain": [
       "    Year       Country   Winner   Runners-Up        Third   Fourth  \\\n",
       "18  2010  South Africa    Spain  Netherlands      Germany  Uruguay   \n",
       "19  2014        Brazil  Germany    Argentina  Netherlands   Brazil   \n",
       "\n",
       "    GoalsScored  QualifiedTeams  MatchesPlayed Attendance  \n",
       "18          145              32             64  3.178.856  \n",
       "19          171              32             64  3.386.810  "
      ]
     },
     "execution_count": 19,
     "metadata": {},
     "output_type": "execute_result"
    }
   ],
   "source": [
    "world_cup.tail(2)"
   ]
  },
  {
   "cell_type": "markdown",
   "id": "51bc1da1",
   "metadata": {
    "papermill": {
     "duration": 0.014034,
     "end_time": "2022-09-06T21:58:31.744198",
     "exception": false,
     "start_time": "2022-09-06T21:58:31.730164",
     "status": "completed"
    },
    "tags": []
   },
   "source": [
    "from 1930 until 2014"
   ]
  },
  {
   "cell_type": "code",
   "execution_count": 20,
   "id": "522aa982",
   "metadata": {
    "execution": {
     "iopub.execute_input": "2022-09-06T21:58:31.774858Z",
     "iopub.status.busy": "2022-09-06T21:58:31.774410Z",
     "iopub.status.idle": "2022-09-06T21:58:31.781535Z",
     "shell.execute_reply": "2022-09-06T21:58:31.780343Z"
    },
    "papermill": {
     "duration": 0.025082,
     "end_time": "2022-09-06T21:58:31.783802",
     "exception": false,
     "start_time": "2022-09-06T21:58:31.758720",
     "status": "completed"
    },
    "tags": []
   },
   "outputs": [
    {
     "data": {
      "text/plain": [
       "(20, 10)"
      ]
     },
     "execution_count": 20,
     "metadata": {},
     "output_type": "execute_result"
    }
   ],
   "source": [
    "world_cup.shape"
   ]
  },
  {
   "cell_type": "code",
   "execution_count": 21,
   "id": "b6aeca77",
   "metadata": {
    "execution": {
     "iopub.execute_input": "2022-09-06T21:58:31.814997Z",
     "iopub.status.busy": "2022-09-06T21:58:31.814034Z",
     "iopub.status.idle": "2022-09-06T21:58:31.823838Z",
     "shell.execute_reply": "2022-09-06T21:58:31.822731Z"
    },
    "papermill": {
     "duration": 0.027894,
     "end_time": "2022-09-06T21:58:31.826163",
     "exception": false,
     "start_time": "2022-09-06T21:58:31.798269",
     "status": "completed"
    },
    "tags": []
   },
   "outputs": [
    {
     "data": {
      "text/plain": [
       "Year              0\n",
       "Country           0\n",
       "Winner            0\n",
       "Runners-Up        0\n",
       "Third             0\n",
       "Fourth            0\n",
       "GoalsScored       0\n",
       "QualifiedTeams    0\n",
       "MatchesPlayed     0\n",
       "Attendance        0\n",
       "dtype: int64"
      ]
     },
     "execution_count": 21,
     "metadata": {},
     "output_type": "execute_result"
    }
   ],
   "source": [
    "world_cup.isnull().sum()"
   ]
  },
  {
   "cell_type": "code",
   "execution_count": 22,
   "id": "c2907e2f",
   "metadata": {
    "execution": {
     "iopub.execute_input": "2022-09-06T21:58:31.857542Z",
     "iopub.status.busy": "2022-09-06T21:58:31.856486Z",
     "iopub.status.idle": "2022-09-06T21:58:31.864272Z",
     "shell.execute_reply": "2022-09-06T21:58:31.863462Z"
    },
    "papermill": {
     "duration": 0.025597,
     "end_time": "2022-09-06T21:58:31.866378",
     "exception": false,
     "start_time": "2022-09-06T21:58:31.840781",
     "status": "completed"
    },
    "tags": []
   },
   "outputs": [
    {
     "data": {
      "text/plain": [
       "Year               int64\n",
       "Country           object\n",
       "Winner            object\n",
       "Runners-Up        object\n",
       "Third             object\n",
       "Fourth            object\n",
       "GoalsScored        int64\n",
       "QualifiedTeams     int64\n",
       "MatchesPlayed      int64\n",
       "Attendance        object\n",
       "dtype: object"
      ]
     },
     "execution_count": 22,
     "metadata": {},
     "output_type": "execute_result"
    }
   ],
   "source": [
    "world_cup.dtypes"
   ]
  },
  {
   "cell_type": "code",
   "execution_count": 23,
   "id": "0eed592d",
   "metadata": {
    "execution": {
     "iopub.execute_input": "2022-09-06T21:58:31.898045Z",
     "iopub.status.busy": "2022-09-06T21:58:31.897317Z",
     "iopub.status.idle": "2022-09-06T21:58:31.913777Z",
     "shell.execute_reply": "2022-09-06T21:58:31.912446Z"
    },
    "papermill": {
     "duration": 0.035382,
     "end_time": "2022-09-06T21:58:31.916564",
     "exception": false,
     "start_time": "2022-09-06T21:58:31.881182",
     "status": "completed"
    },
    "tags": []
   },
   "outputs": [
    {
     "name": "stdout",
     "output_type": "stream",
     "text": [
      "the top 10 winners \n"
     ]
    },
    {
     "data": {
      "text/html": [
       "<div>\n",
       "<style scoped>\n",
       "    .dataframe tbody tr th:only-of-type {\n",
       "        vertical-align: middle;\n",
       "    }\n",
       "\n",
       "    .dataframe tbody tr th {\n",
       "        vertical-align: top;\n",
       "    }\n",
       "\n",
       "    .dataframe thead th {\n",
       "        text-align: right;\n",
       "    }\n",
       "</style>\n",
       "<table border=\"1\" class=\"dataframe\">\n",
       "  <thead>\n",
       "    <tr style=\"text-align: right;\">\n",
       "      <th></th>\n",
       "      <th>Winner</th>\n",
       "      <th>num</th>\n",
       "    </tr>\n",
       "  </thead>\n",
       "  <tbody>\n",
       "    <tr>\n",
       "      <th>1</th>\n",
       "      <td>Brazil</td>\n",
       "      <td>5</td>\n",
       "    </tr>\n",
       "    <tr>\n",
       "      <th>6</th>\n",
       "      <td>Italy</td>\n",
       "      <td>4</td>\n",
       "    </tr>\n",
       "    <tr>\n",
       "      <th>5</th>\n",
       "      <td>Germany FR</td>\n",
       "      <td>3</td>\n",
       "    </tr>\n",
       "    <tr>\n",
       "      <th>0</th>\n",
       "      <td>Argentina</td>\n",
       "      <td>2</td>\n",
       "    </tr>\n",
       "    <tr>\n",
       "      <th>8</th>\n",
       "      <td>Uruguay</td>\n",
       "      <td>2</td>\n",
       "    </tr>\n",
       "    <tr>\n",
       "      <th>2</th>\n",
       "      <td>England</td>\n",
       "      <td>1</td>\n",
       "    </tr>\n",
       "    <tr>\n",
       "      <th>3</th>\n",
       "      <td>France</td>\n",
       "      <td>1</td>\n",
       "    </tr>\n",
       "    <tr>\n",
       "      <th>4</th>\n",
       "      <td>Germany</td>\n",
       "      <td>1</td>\n",
       "    </tr>\n",
       "    <tr>\n",
       "      <th>7</th>\n",
       "      <td>Spain</td>\n",
       "      <td>1</td>\n",
       "    </tr>\n",
       "  </tbody>\n",
       "</table>\n",
       "</div>"
      ],
      "text/plain": [
       "       Winner  num\n",
       "1      Brazil    5\n",
       "6       Italy    4\n",
       "5  Germany FR    3\n",
       "0   Argentina    2\n",
       "8     Uruguay    2\n",
       "2     England    1\n",
       "3      France    1\n",
       "4     Germany    1\n",
       "7       Spain    1"
      ]
     },
     "execution_count": 23,
     "metadata": {},
     "output_type": "execute_result"
    }
   ],
   "source": [
    "print(\"the top 10 winners \")\n",
    "world_cup.groupby(\"Winner\").size().reset_index().rename(columns={0:\"num\"}).nlargest(10, 'num')"
   ]
  },
  {
   "cell_type": "code",
   "execution_count": 24,
   "id": "1d81a5b9",
   "metadata": {
    "execution": {
     "iopub.execute_input": "2022-09-06T21:58:31.948514Z",
     "iopub.status.busy": "2022-09-06T21:58:31.948048Z",
     "iopub.status.idle": "2022-09-06T21:58:31.963785Z",
     "shell.execute_reply": "2022-09-06T21:58:31.962532Z"
    },
    "papermill": {
     "duration": 0.03453,
     "end_time": "2022-09-06T21:58:31.966283",
     "exception": false,
     "start_time": "2022-09-06T21:58:31.931753",
     "status": "completed"
    },
    "tags": []
   },
   "outputs": [
    {
     "name": "stdout",
     "output_type": "stream",
     "text": [
      "the top 2en  \n"
     ]
    },
    {
     "data": {
      "text/html": [
       "<div>\n",
       "<style scoped>\n",
       "    .dataframe tbody tr th:only-of-type {\n",
       "        vertical-align: middle;\n",
       "    }\n",
       "\n",
       "    .dataframe tbody tr th {\n",
       "        vertical-align: top;\n",
       "    }\n",
       "\n",
       "    .dataframe thead th {\n",
       "        text-align: right;\n",
       "    }\n",
       "</style>\n",
       "<table border=\"1\" class=\"dataframe\">\n",
       "  <thead>\n",
       "    <tr style=\"text-align: right;\">\n",
       "      <th></th>\n",
       "      <th>Runners-Up</th>\n",
       "      <th>num</th>\n",
       "    </tr>\n",
       "  </thead>\n",
       "  <tbody>\n",
       "    <tr>\n",
       "      <th>0</th>\n",
       "      <td>Argentina</td>\n",
       "      <td>3</td>\n",
       "    </tr>\n",
       "    <tr>\n",
       "      <th>5</th>\n",
       "      <td>Germany FR</td>\n",
       "      <td>3</td>\n",
       "    </tr>\n",
       "    <tr>\n",
       "      <th>8</th>\n",
       "      <td>Netherlands</td>\n",
       "      <td>3</td>\n",
       "    </tr>\n",
       "    <tr>\n",
       "      <th>1</th>\n",
       "      <td>Brazil</td>\n",
       "      <td>2</td>\n",
       "    </tr>\n",
       "    <tr>\n",
       "      <th>2</th>\n",
       "      <td>Czechoslovakia</td>\n",
       "      <td>2</td>\n",
       "    </tr>\n",
       "    <tr>\n",
       "      <th>6</th>\n",
       "      <td>Hungary</td>\n",
       "      <td>2</td>\n",
       "    </tr>\n",
       "    <tr>\n",
       "      <th>7</th>\n",
       "      <td>Italy</td>\n",
       "      <td>2</td>\n",
       "    </tr>\n",
       "    <tr>\n",
       "      <th>3</th>\n",
       "      <td>France</td>\n",
       "      <td>1</td>\n",
       "    </tr>\n",
       "    <tr>\n",
       "      <th>4</th>\n",
       "      <td>Germany</td>\n",
       "      <td>1</td>\n",
       "    </tr>\n",
       "    <tr>\n",
       "      <th>9</th>\n",
       "      <td>Sweden</td>\n",
       "      <td>1</td>\n",
       "    </tr>\n",
       "  </tbody>\n",
       "</table>\n",
       "</div>"
      ],
      "text/plain": [
       "       Runners-Up  num\n",
       "0       Argentina    3\n",
       "5      Germany FR    3\n",
       "8     Netherlands    3\n",
       "1          Brazil    2\n",
       "2  Czechoslovakia    2\n",
       "6         Hungary    2\n",
       "7           Italy    2\n",
       "3          France    1\n",
       "4         Germany    1\n",
       "9          Sweden    1"
      ]
     },
     "execution_count": 24,
     "metadata": {},
     "output_type": "execute_result"
    }
   ],
   "source": [
    "print(\"the top 2en  \")\n",
    "\n",
    "world_cup.groupby(\"Runners-Up\").size().reset_index().rename(columns={0:\"num\"}).nlargest(10, 'num')"
   ]
  },
  {
   "cell_type": "code",
   "execution_count": 25,
   "id": "ce9463ff",
   "metadata": {
    "execution": {
     "iopub.execute_input": "2022-09-06T21:58:31.999062Z",
     "iopub.status.busy": "2022-09-06T21:58:31.998312Z",
     "iopub.status.idle": "2022-09-06T21:58:32.013677Z",
     "shell.execute_reply": "2022-09-06T21:58:32.012468Z"
    },
    "papermill": {
     "duration": 0.03424,
     "end_time": "2022-09-06T21:58:32.015982",
     "exception": false,
     "start_time": "2022-09-06T21:58:31.981742",
     "status": "completed"
    },
    "tags": []
   },
   "outputs": [
    {
     "name": "stdout",
     "output_type": "stream",
     "text": [
      "the top 3rd  \n"
     ]
    },
    {
     "data": {
      "text/html": [
       "<div>\n",
       "<style scoped>\n",
       "    .dataframe tbody tr th:only-of-type {\n",
       "        vertical-align: middle;\n",
       "    }\n",
       "\n",
       "    .dataframe tbody tr th {\n",
       "        vertical-align: top;\n",
       "    }\n",
       "\n",
       "    .dataframe thead th {\n",
       "        text-align: right;\n",
       "    }\n",
       "</style>\n",
       "<table border=\"1\" class=\"dataframe\">\n",
       "  <thead>\n",
       "    <tr style=\"text-align: right;\">\n",
       "      <th></th>\n",
       "      <th>Third</th>\n",
       "      <th>num</th>\n",
       "    </tr>\n",
       "  </thead>\n",
       "  <tbody>\n",
       "    <tr>\n",
       "      <th>5</th>\n",
       "      <td>Germany</td>\n",
       "      <td>3</td>\n",
       "    </tr>\n",
       "    <tr>\n",
       "      <th>1</th>\n",
       "      <td>Brazil</td>\n",
       "      <td>2</td>\n",
       "    </tr>\n",
       "    <tr>\n",
       "      <th>4</th>\n",
       "      <td>France</td>\n",
       "      <td>2</td>\n",
       "    </tr>\n",
       "    <tr>\n",
       "      <th>9</th>\n",
       "      <td>Poland</td>\n",
       "      <td>2</td>\n",
       "    </tr>\n",
       "    <tr>\n",
       "      <th>11</th>\n",
       "      <td>Sweden</td>\n",
       "      <td>2</td>\n",
       "    </tr>\n",
       "    <tr>\n",
       "      <th>0</th>\n",
       "      <td>Austria</td>\n",
       "      <td>1</td>\n",
       "    </tr>\n",
       "    <tr>\n",
       "      <th>2</th>\n",
       "      <td>Chile</td>\n",
       "      <td>1</td>\n",
       "    </tr>\n",
       "    <tr>\n",
       "      <th>3</th>\n",
       "      <td>Croatia</td>\n",
       "      <td>1</td>\n",
       "    </tr>\n",
       "    <tr>\n",
       "      <th>6</th>\n",
       "      <td>Germany FR</td>\n",
       "      <td>1</td>\n",
       "    </tr>\n",
       "    <tr>\n",
       "      <th>7</th>\n",
       "      <td>Italy</td>\n",
       "      <td>1</td>\n",
       "    </tr>\n",
       "  </tbody>\n",
       "</table>\n",
       "</div>"
      ],
      "text/plain": [
       "         Third  num\n",
       "5      Germany    3\n",
       "1       Brazil    2\n",
       "4       France    2\n",
       "9       Poland    2\n",
       "11      Sweden    2\n",
       "0      Austria    1\n",
       "2        Chile    1\n",
       "3      Croatia    1\n",
       "6   Germany FR    1\n",
       "7        Italy    1"
      ]
     },
     "execution_count": 25,
     "metadata": {},
     "output_type": "execute_result"
    }
   ],
   "source": [
    "print(\"the top 3rd  \")\n",
    "\n",
    "world_cup.groupby(\"Third\").size().reset_index().rename(columns={0:\"num\"}).nlargest(10, 'num')"
   ]
  },
  {
   "cell_type": "code",
   "execution_count": 26,
   "id": "79cdf07c",
   "metadata": {
    "execution": {
     "iopub.execute_input": "2022-09-06T21:58:32.049329Z",
     "iopub.status.busy": "2022-09-06T21:58:32.048583Z",
     "iopub.status.idle": "2022-09-06T21:58:32.064027Z",
     "shell.execute_reply": "2022-09-06T21:58:32.063086Z"
    },
    "papermill": {
     "duration": 0.034675,
     "end_time": "2022-09-06T21:58:32.066197",
     "exception": false,
     "start_time": "2022-09-06T21:58:32.031522",
     "status": "completed"
    },
    "tags": []
   },
   "outputs": [
    {
     "name": "stdout",
     "output_type": "stream",
     "text": [
      "the top 4th  \n"
     ]
    },
    {
     "data": {
      "text/html": [
       "<div>\n",
       "<style scoped>\n",
       "    .dataframe tbody tr th:only-of-type {\n",
       "        vertical-align: middle;\n",
       "    }\n",
       "\n",
       "    .dataframe tbody tr th {\n",
       "        vertical-align: top;\n",
       "    }\n",
       "\n",
       "    .dataframe thead th {\n",
       "        text-align: right;\n",
       "    }\n",
       "</style>\n",
       "<table border=\"1\" class=\"dataframe\">\n",
       "  <thead>\n",
       "    <tr style=\"text-align: right;\">\n",
       "      <th></th>\n",
       "      <th>Fourth</th>\n",
       "      <th>num</th>\n",
       "    </tr>\n",
       "  </thead>\n",
       "  <tbody>\n",
       "    <tr>\n",
       "      <th>14</th>\n",
       "      <td>Uruguay</td>\n",
       "      <td>3</td>\n",
       "    </tr>\n",
       "    <tr>\n",
       "      <th>2</th>\n",
       "      <td>Brazil</td>\n",
       "      <td>2</td>\n",
       "    </tr>\n",
       "    <tr>\n",
       "      <th>15</th>\n",
       "      <td>Yugoslavia</td>\n",
       "      <td>2</td>\n",
       "    </tr>\n",
       "    <tr>\n",
       "      <th>0</th>\n",
       "      <td>Austria</td>\n",
       "      <td>1</td>\n",
       "    </tr>\n",
       "    <tr>\n",
       "      <th>1</th>\n",
       "      <td>Belgium</td>\n",
       "      <td>1</td>\n",
       "    </tr>\n",
       "    <tr>\n",
       "      <th>3</th>\n",
       "      <td>Bulgaria</td>\n",
       "      <td>1</td>\n",
       "    </tr>\n",
       "    <tr>\n",
       "      <th>4</th>\n",
       "      <td>England</td>\n",
       "      <td>1</td>\n",
       "    </tr>\n",
       "    <tr>\n",
       "      <th>5</th>\n",
       "      <td>France</td>\n",
       "      <td>1</td>\n",
       "    </tr>\n",
       "    <tr>\n",
       "      <th>6</th>\n",
       "      <td>Germany FR</td>\n",
       "      <td>1</td>\n",
       "    </tr>\n",
       "    <tr>\n",
       "      <th>7</th>\n",
       "      <td>Italy</td>\n",
       "      <td>1</td>\n",
       "    </tr>\n",
       "  </tbody>\n",
       "</table>\n",
       "</div>"
      ],
      "text/plain": [
       "        Fourth  num\n",
       "14     Uruguay    3\n",
       "2       Brazil    2\n",
       "15  Yugoslavia    2\n",
       "0      Austria    1\n",
       "1      Belgium    1\n",
       "3     Bulgaria    1\n",
       "4      England    1\n",
       "5       France    1\n",
       "6   Germany FR    1\n",
       "7        Italy    1"
      ]
     },
     "execution_count": 26,
     "metadata": {},
     "output_type": "execute_result"
    }
   ],
   "source": [
    "print(\"the top 4th  \")\n",
    "\n",
    "world_cup.groupby(\"Fourth\").size().reset_index().rename(columns={0:\"num\"}).nlargest(10, 'num')"
   ]
  },
  {
   "cell_type": "code",
   "execution_count": 27,
   "id": "563e4323",
   "metadata": {
    "execution": {
     "iopub.execute_input": "2022-09-06T21:58:32.100536Z",
     "iopub.status.busy": "2022-09-06T21:58:32.100098Z",
     "iopub.status.idle": "2022-09-06T21:58:32.116609Z",
     "shell.execute_reply": "2022-09-06T21:58:32.115693Z"
    },
    "papermill": {
     "duration": 0.037841,
     "end_time": "2022-09-06T21:58:32.119890",
     "exception": false,
     "start_time": "2022-09-06T21:58:32.082049",
     "status": "completed"
    },
    "tags": []
   },
   "outputs": [
    {
     "name": "stdout",
     "output_type": "stream",
     "text": [
      "the country who organized the world cup\n"
     ]
    },
    {
     "data": {
      "text/html": [
       "<div>\n",
       "<style scoped>\n",
       "    .dataframe tbody tr th:only-of-type {\n",
       "        vertical-align: middle;\n",
       "    }\n",
       "\n",
       "    .dataframe tbody tr th {\n",
       "        vertical-align: top;\n",
       "    }\n",
       "\n",
       "    .dataframe thead th {\n",
       "        text-align: right;\n",
       "    }\n",
       "</style>\n",
       "<table border=\"1\" class=\"dataframe\">\n",
       "  <thead>\n",
       "    <tr style=\"text-align: right;\">\n",
       "      <th></th>\n",
       "      <th>Country</th>\n",
       "      <th>num</th>\n",
       "    </tr>\n",
       "  </thead>\n",
       "  <tbody>\n",
       "    <tr>\n",
       "      <th>1</th>\n",
       "      <td>Brazil</td>\n",
       "      <td>2</td>\n",
       "    </tr>\n",
       "    <tr>\n",
       "      <th>4</th>\n",
       "      <td>France</td>\n",
       "      <td>2</td>\n",
       "    </tr>\n",
       "    <tr>\n",
       "      <th>5</th>\n",
       "      <td>Germany</td>\n",
       "      <td>2</td>\n",
       "    </tr>\n",
       "    <tr>\n",
       "      <th>6</th>\n",
       "      <td>Italy</td>\n",
       "      <td>2</td>\n",
       "    </tr>\n",
       "    <tr>\n",
       "      <th>8</th>\n",
       "      <td>Mexico</td>\n",
       "      <td>2</td>\n",
       "    </tr>\n",
       "    <tr>\n",
       "      <th>0</th>\n",
       "      <td>Argentina</td>\n",
       "      <td>1</td>\n",
       "    </tr>\n",
       "    <tr>\n",
       "      <th>2</th>\n",
       "      <td>Chile</td>\n",
       "      <td>1</td>\n",
       "    </tr>\n",
       "    <tr>\n",
       "      <th>3</th>\n",
       "      <td>England</td>\n",
       "      <td>1</td>\n",
       "    </tr>\n",
       "    <tr>\n",
       "      <th>7</th>\n",
       "      <td>Korea/Japan</td>\n",
       "      <td>1</td>\n",
       "    </tr>\n",
       "    <tr>\n",
       "      <th>9</th>\n",
       "      <td>South Africa</td>\n",
       "      <td>1</td>\n",
       "    </tr>\n",
       "    <tr>\n",
       "      <th>10</th>\n",
       "      <td>Spain</td>\n",
       "      <td>1</td>\n",
       "    </tr>\n",
       "    <tr>\n",
       "      <th>11</th>\n",
       "      <td>Sweden</td>\n",
       "      <td>1</td>\n",
       "    </tr>\n",
       "    <tr>\n",
       "      <th>12</th>\n",
       "      <td>Switzerland</td>\n",
       "      <td>1</td>\n",
       "    </tr>\n",
       "    <tr>\n",
       "      <th>13</th>\n",
       "      <td>USA</td>\n",
       "      <td>1</td>\n",
       "    </tr>\n",
       "    <tr>\n",
       "      <th>14</th>\n",
       "      <td>Uruguay</td>\n",
       "      <td>1</td>\n",
       "    </tr>\n",
       "  </tbody>\n",
       "</table>\n",
       "</div>"
      ],
      "text/plain": [
       "         Country  num\n",
       "1         Brazil    2\n",
       "4         France    2\n",
       "5        Germany    2\n",
       "6          Italy    2\n",
       "8         Mexico    2\n",
       "0      Argentina    1\n",
       "2          Chile    1\n",
       "3        England    1\n",
       "7    Korea/Japan    1\n",
       "9   South Africa    1\n",
       "10         Spain    1\n",
       "11        Sweden    1\n",
       "12   Switzerland    1\n",
       "13           USA    1\n",
       "14       Uruguay    1"
      ]
     },
     "execution_count": 27,
     "metadata": {},
     "output_type": "execute_result"
    }
   ],
   "source": [
    "print(\"the country who organized the world cup\")\n",
    "\n",
    "world_cup.groupby(\"Country\").size().reset_index().rename(columns={0:\"num\"}).nlargest(15, 'num')"
   ]
  },
  {
   "cell_type": "markdown",
   "id": "338fbba5",
   "metadata": {
    "papermill": {
     "duration": 0.015744,
     "end_time": "2022-09-06T21:58:32.151881",
     "exception": false,
     "start_time": "2022-09-06T21:58:32.136137",
     "status": "completed"
    },
    "tags": []
   },
   "source": [
    "# matches"
   ]
  },
  {
   "cell_type": "code",
   "execution_count": 28,
   "id": "fec76bf3",
   "metadata": {
    "execution": {
     "iopub.execute_input": "2022-09-06T21:58:32.186810Z",
     "iopub.status.busy": "2022-09-06T21:58:32.185997Z",
     "iopub.status.idle": "2022-09-06T21:58:32.192411Z",
     "shell.execute_reply": "2022-09-06T21:58:32.191496Z"
    },
    "papermill": {
     "duration": 0.026554,
     "end_time": "2022-09-06T21:58:32.194655",
     "exception": false,
     "start_time": "2022-09-06T21:58:32.168101",
     "status": "completed"
    },
    "tags": []
   },
   "outputs": [
    {
     "data": {
      "text/plain": [
       "(4572, 20)"
      ]
     },
     "execution_count": 28,
     "metadata": {},
     "output_type": "execute_result"
    }
   ],
   "source": [
    "matches.shape"
   ]
  },
  {
   "cell_type": "code",
   "execution_count": 29,
   "id": "a0389b6f",
   "metadata": {
    "execution": {
     "iopub.execute_input": "2022-09-06T21:58:32.229609Z",
     "iopub.status.busy": "2022-09-06T21:58:32.228815Z",
     "iopub.status.idle": "2022-09-06T21:58:32.239734Z",
     "shell.execute_reply": "2022-09-06T21:58:32.238720Z"
    },
    "papermill": {
     "duration": 0.030976,
     "end_time": "2022-09-06T21:58:32.242031",
     "exception": false,
     "start_time": "2022-09-06T21:58:32.211055",
     "status": "completed"
    },
    "tags": []
   },
   "outputs": [
    {
     "data": {
      "text/plain": [
       "Year                    3720\n",
       "Datetime                3720\n",
       "Stage                   3720\n",
       "Stadium                 3720\n",
       "City                    3720\n",
       "Home Team Name          3720\n",
       "Home Team Goals         3720\n",
       "Away Team Goals         3720\n",
       "Away Team Name          3720\n",
       "Win conditions          3720\n",
       "Attendance              3722\n",
       "Half-time Home Goals    3720\n",
       "Half-time Away Goals    3720\n",
       "Referee                 3720\n",
       "Assistant 1             3720\n",
       "Assistant 2             3720\n",
       "RoundID                 3720\n",
       "MatchID                 3720\n",
       "Home Team Initials      3720\n",
       "Away Team Initials      3720\n",
       "dtype: int64"
      ]
     },
     "execution_count": 29,
     "metadata": {},
     "output_type": "execute_result"
    }
   ],
   "source": [
    "matches.isnull().sum()"
   ]
  },
  {
   "cell_type": "code",
   "execution_count": 30,
   "id": "085fcc0c",
   "metadata": {
    "execution": {
     "iopub.execute_input": "2022-09-06T21:58:32.277838Z",
     "iopub.status.busy": "2022-09-06T21:58:32.276964Z",
     "iopub.status.idle": "2022-09-06T21:58:32.287604Z",
     "shell.execute_reply": "2022-09-06T21:58:32.286200Z"
    },
    "papermill": {
     "duration": 0.0314,
     "end_time": "2022-09-06T21:58:32.290342",
     "exception": false,
     "start_time": "2022-09-06T21:58:32.258942",
     "status": "completed"
    },
    "tags": []
   },
   "outputs": [],
   "source": [
    "matches=matches.dropna()\n"
   ]
  },
  {
   "cell_type": "code",
   "execution_count": 31,
   "id": "c72adc32",
   "metadata": {
    "execution": {
     "iopub.execute_input": "2022-09-06T21:58:32.326283Z",
     "iopub.status.busy": "2022-09-06T21:58:32.325770Z",
     "iopub.status.idle": "2022-09-06T21:58:32.332691Z",
     "shell.execute_reply": "2022-09-06T21:58:32.331753Z"
    },
    "papermill": {
     "duration": 0.027356,
     "end_time": "2022-09-06T21:58:32.334856",
     "exception": false,
     "start_time": "2022-09-06T21:58:32.307500",
     "status": "completed"
    },
    "tags": []
   },
   "outputs": [
    {
     "data": {
      "text/plain": [
       "(850, 20)"
      ]
     },
     "execution_count": 31,
     "metadata": {},
     "output_type": "execute_result"
    }
   ],
   "source": [
    "matches.shape"
   ]
  },
  {
   "cell_type": "code",
   "execution_count": 32,
   "id": "5d1d4bde",
   "metadata": {
    "execution": {
     "iopub.execute_input": "2022-09-06T21:58:32.371327Z",
     "iopub.status.busy": "2022-09-06T21:58:32.370576Z",
     "iopub.status.idle": "2022-09-06T21:58:32.378753Z",
     "shell.execute_reply": "2022-09-06T21:58:32.377775Z"
    },
    "papermill": {
     "duration": 0.029062,
     "end_time": "2022-09-06T21:58:32.381047",
     "exception": false,
     "start_time": "2022-09-06T21:58:32.351985",
     "status": "completed"
    },
    "tags": []
   },
   "outputs": [
    {
     "data": {
      "text/plain": [
       "Year                    float64\n",
       "Datetime                 object\n",
       "Stage                    object\n",
       "Stadium                  object\n",
       "City                     object\n",
       "Home Team Name           object\n",
       "Home Team Goals         float64\n",
       "Away Team Goals         float64\n",
       "Away Team Name           object\n",
       "Win conditions           object\n",
       "Attendance              float64\n",
       "Half-time Home Goals    float64\n",
       "Half-time Away Goals    float64\n",
       "Referee                  object\n",
       "Assistant 1              object\n",
       "Assistant 2              object\n",
       "RoundID                 float64\n",
       "MatchID                 float64\n",
       "Home Team Initials       object\n",
       "Away Team Initials       object\n",
       "dtype: object"
      ]
     },
     "execution_count": 32,
     "metadata": {},
     "output_type": "execute_result"
    }
   ],
   "source": [
    "matches.dtypes"
   ]
  },
  {
   "cell_type": "code",
   "execution_count": 33,
   "id": "9c645ea8",
   "metadata": {
    "execution": {
     "iopub.execute_input": "2022-09-06T21:58:32.416505Z",
     "iopub.status.busy": "2022-09-06T21:58:32.416043Z",
     "iopub.status.idle": "2022-09-06T21:58:32.440604Z",
     "shell.execute_reply": "2022-09-06T21:58:32.439681Z"
    },
    "papermill": {
     "duration": 0.044809,
     "end_time": "2022-09-06T21:58:32.442904",
     "exception": false,
     "start_time": "2022-09-06T21:58:32.398095",
     "status": "completed"
    },
    "tags": []
   },
   "outputs": [
    {
     "data": {
      "text/html": [
       "<div>\n",
       "<style scoped>\n",
       "    .dataframe tbody tr th:only-of-type {\n",
       "        vertical-align: middle;\n",
       "    }\n",
       "\n",
       "    .dataframe tbody tr th {\n",
       "        vertical-align: top;\n",
       "    }\n",
       "\n",
       "    .dataframe thead th {\n",
       "        text-align: right;\n",
       "    }\n",
       "</style>\n",
       "<table border=\"1\" class=\"dataframe\">\n",
       "  <thead>\n",
       "    <tr style=\"text-align: right;\">\n",
       "      <th></th>\n",
       "      <th>Year</th>\n",
       "      <th>Datetime</th>\n",
       "      <th>Stage</th>\n",
       "      <th>Stadium</th>\n",
       "      <th>City</th>\n",
       "      <th>Home Team Name</th>\n",
       "      <th>Home Team Goals</th>\n",
       "      <th>Away Team Goals</th>\n",
       "      <th>Away Team Name</th>\n",
       "      <th>Win conditions</th>\n",
       "      <th>Attendance</th>\n",
       "      <th>Half-time Home Goals</th>\n",
       "      <th>Half-time Away Goals</th>\n",
       "      <th>Referee</th>\n",
       "      <th>Assistant 1</th>\n",
       "      <th>Assistant 2</th>\n",
       "      <th>RoundID</th>\n",
       "      <th>MatchID</th>\n",
       "      <th>Home Team Initials</th>\n",
       "      <th>Away Team Initials</th>\n",
       "    </tr>\n",
       "  </thead>\n",
       "  <tbody>\n",
       "    <tr>\n",
       "      <th>0</th>\n",
       "      <td>1930.0</td>\n",
       "      <td>13 Jul 1930 - 15:00</td>\n",
       "      <td>Group 1</td>\n",
       "      <td>Pocitos</td>\n",
       "      <td>Montevideo</td>\n",
       "      <td>France</td>\n",
       "      <td>4.0</td>\n",
       "      <td>1.0</td>\n",
       "      <td>Mexico</td>\n",
       "      <td></td>\n",
       "      <td>4444.0</td>\n",
       "      <td>3.0</td>\n",
       "      <td>0.0</td>\n",
       "      <td>LOMBARDI Domingo (URU)</td>\n",
       "      <td>CRISTOPHE Henry (BEL)</td>\n",
       "      <td>REGO Gilberto (BRA)</td>\n",
       "      <td>201.0</td>\n",
       "      <td>1096.0</td>\n",
       "      <td>FRA</td>\n",
       "      <td>MEX</td>\n",
       "    </tr>\n",
       "    <tr>\n",
       "      <th>1</th>\n",
       "      <td>1930.0</td>\n",
       "      <td>13 Jul 1930 - 15:00</td>\n",
       "      <td>Group 4</td>\n",
       "      <td>Parque Central</td>\n",
       "      <td>Montevideo</td>\n",
       "      <td>USA</td>\n",
       "      <td>3.0</td>\n",
       "      <td>0.0</td>\n",
       "      <td>Belgium</td>\n",
       "      <td></td>\n",
       "      <td>18346.0</td>\n",
       "      <td>2.0</td>\n",
       "      <td>0.0</td>\n",
       "      <td>MACIAS Jose (ARG)</td>\n",
       "      <td>MATEUCCI Francisco (URU)</td>\n",
       "      <td>WARNKEN Alberto (CHI)</td>\n",
       "      <td>201.0</td>\n",
       "      <td>1090.0</td>\n",
       "      <td>USA</td>\n",
       "      <td>BEL</td>\n",
       "    </tr>\n",
       "  </tbody>\n",
       "</table>\n",
       "</div>"
      ],
      "text/plain": [
       "     Year              Datetime    Stage         Stadium         City  \\\n",
       "0  1930.0  13 Jul 1930 - 15:00   Group 1         Pocitos  Montevideo    \n",
       "1  1930.0  13 Jul 1930 - 15:00   Group 4  Parque Central  Montevideo    \n",
       "\n",
       "  Home Team Name  Home Team Goals  Away Team Goals Away Team Name  \\\n",
       "0         France              4.0              1.0         Mexico   \n",
       "1            USA              3.0              0.0        Belgium   \n",
       "\n",
       "  Win conditions  Attendance  Half-time Home Goals  Half-time Away Goals  \\\n",
       "0                     4444.0                   3.0                   0.0   \n",
       "1                    18346.0                   2.0                   0.0   \n",
       "\n",
       "                  Referee               Assistant 1            Assistant 2  \\\n",
       "0  LOMBARDI Domingo (URU)     CRISTOPHE Henry (BEL)    REGO Gilberto (BRA)   \n",
       "1       MACIAS Jose (ARG)  MATEUCCI Francisco (URU)  WARNKEN Alberto (CHI)   \n",
       "\n",
       "   RoundID  MatchID Home Team Initials Away Team Initials  \n",
       "0    201.0   1096.0                FRA                MEX  \n",
       "1    201.0   1090.0                USA                BEL  "
      ]
     },
     "execution_count": 33,
     "metadata": {},
     "output_type": "execute_result"
    }
   ],
   "source": [
    "matches.head(2)"
   ]
  },
  {
   "cell_type": "code",
   "execution_count": 34,
   "id": "03c6bdf9",
   "metadata": {
    "execution": {
     "iopub.execute_input": "2022-09-06T21:58:32.479020Z",
     "iopub.status.busy": "2022-09-06T21:58:32.478197Z",
     "iopub.status.idle": "2022-09-06T21:58:32.491948Z",
     "shell.execute_reply": "2022-09-06T21:58:32.491001Z"
    },
    "papermill": {
     "duration": 0.034626,
     "end_time": "2022-09-06T21:58:32.494536",
     "exception": false,
     "start_time": "2022-09-06T21:58:32.459910",
     "status": "completed"
    },
    "tags": []
   },
   "outputs": [
    {
     "data": {
      "text/html": [
       "<div>\n",
       "<style scoped>\n",
       "    .dataframe tbody tr th:only-of-type {\n",
       "        vertical-align: middle;\n",
       "    }\n",
       "\n",
       "    .dataframe tbody tr th {\n",
       "        vertical-align: top;\n",
       "    }\n",
       "\n",
       "    .dataframe thead th {\n",
       "        text-align: right;\n",
       "    }\n",
       "</style>\n",
       "<table border=\"1\" class=\"dataframe\">\n",
       "  <thead>\n",
       "    <tr style=\"text-align: right;\">\n",
       "      <th></th>\n",
       "      <th>Year</th>\n",
       "      <th>Country</th>\n",
       "      <th>Winner</th>\n",
       "      <th>Runners-Up</th>\n",
       "      <th>Third</th>\n",
       "      <th>Fourth</th>\n",
       "      <th>GoalsScored</th>\n",
       "      <th>QualifiedTeams</th>\n",
       "      <th>MatchesPlayed</th>\n",
       "      <th>Attendance</th>\n",
       "    </tr>\n",
       "  </thead>\n",
       "  <tbody>\n",
       "    <tr>\n",
       "      <th>0</th>\n",
       "      <td>1930</td>\n",
       "      <td>Uruguay</td>\n",
       "      <td>Uruguay</td>\n",
       "      <td>Argentina</td>\n",
       "      <td>USA</td>\n",
       "      <td>Yugoslavia</td>\n",
       "      <td>70</td>\n",
       "      <td>13</td>\n",
       "      <td>18</td>\n",
       "      <td>590.549</td>\n",
       "    </tr>\n",
       "    <tr>\n",
       "      <th>1</th>\n",
       "      <td>1934</td>\n",
       "      <td>Italy</td>\n",
       "      <td>Italy</td>\n",
       "      <td>Czechoslovakia</td>\n",
       "      <td>Germany</td>\n",
       "      <td>Austria</td>\n",
       "      <td>70</td>\n",
       "      <td>16</td>\n",
       "      <td>17</td>\n",
       "      <td>363.000</td>\n",
       "    </tr>\n",
       "  </tbody>\n",
       "</table>\n",
       "</div>"
      ],
      "text/plain": [
       "   Year  Country   Winner      Runners-Up    Third      Fourth  GoalsScored  \\\n",
       "0  1930  Uruguay  Uruguay       Argentina      USA  Yugoslavia           70   \n",
       "1  1934    Italy    Italy  Czechoslovakia  Germany     Austria           70   \n",
       "\n",
       "   QualifiedTeams  MatchesPlayed Attendance  \n",
       "0              13             18    590.549  \n",
       "1              16             17    363.000  "
      ]
     },
     "execution_count": 34,
     "metadata": {},
     "output_type": "execute_result"
    }
   ],
   "source": [
    "world_cup.head(2)"
   ]
  },
  {
   "cell_type": "code",
   "execution_count": 35,
   "id": "228b0bc3",
   "metadata": {
    "execution": {
     "iopub.execute_input": "2022-09-06T21:58:32.531121Z",
     "iopub.status.busy": "2022-09-06T21:58:32.530658Z",
     "iopub.status.idle": "2022-09-06T21:58:32.544991Z",
     "shell.execute_reply": "2022-09-06T21:58:32.544092Z"
    },
    "papermill": {
     "duration": 0.035162,
     "end_time": "2022-09-06T21:58:32.547032",
     "exception": false,
     "start_time": "2022-09-06T21:58:32.511870",
     "status": "completed"
    },
    "tags": []
   },
   "outputs": [
    {
     "data": {
      "text/html": [
       "<div>\n",
       "<style scoped>\n",
       "    .dataframe tbody tr th:only-of-type {\n",
       "        vertical-align: middle;\n",
       "    }\n",
       "\n",
       "    .dataframe tbody tr th {\n",
       "        vertical-align: top;\n",
       "    }\n",
       "\n",
       "    .dataframe thead th {\n",
       "        text-align: right;\n",
       "    }\n",
       "</style>\n",
       "<table border=\"1\" class=\"dataframe\">\n",
       "  <thead>\n",
       "    <tr style=\"text-align: right;\">\n",
       "      <th></th>\n",
       "      <th>RoundID</th>\n",
       "      <th>MatchID</th>\n",
       "      <th>Team Initials</th>\n",
       "      <th>Coach Name</th>\n",
       "      <th>Line-up</th>\n",
       "      <th>Shirt Number</th>\n",
       "      <th>Player Name</th>\n",
       "      <th>Position</th>\n",
       "      <th>Event</th>\n",
       "    </tr>\n",
       "  </thead>\n",
       "  <tbody>\n",
       "    <tr>\n",
       "      <th>0</th>\n",
       "      <td>201</td>\n",
       "      <td>1096</td>\n",
       "      <td>FRA</td>\n",
       "      <td>CAUDRON Raoul (FRA)</td>\n",
       "      <td>S</td>\n",
       "      <td>0</td>\n",
       "      <td>Alex THEPOT</td>\n",
       "      <td>GK</td>\n",
       "      <td>NaN</td>\n",
       "    </tr>\n",
       "    <tr>\n",
       "      <th>1</th>\n",
       "      <td>201</td>\n",
       "      <td>1096</td>\n",
       "      <td>MEX</td>\n",
       "      <td>LUQUE Juan (MEX)</td>\n",
       "      <td>S</td>\n",
       "      <td>0</td>\n",
       "      <td>Oscar BONFIGLIO</td>\n",
       "      <td>GK</td>\n",
       "      <td>NaN</td>\n",
       "    </tr>\n",
       "  </tbody>\n",
       "</table>\n",
       "</div>"
      ],
      "text/plain": [
       "   RoundID  MatchID Team Initials           Coach Name Line-up  Shirt Number  \\\n",
       "0      201     1096           FRA  CAUDRON Raoul (FRA)       S             0   \n",
       "1      201     1096           MEX     LUQUE Juan (MEX)       S             0   \n",
       "\n",
       "       Player Name Position Event  \n",
       "0      Alex THEPOT       GK   NaN  \n",
       "1  Oscar BONFIGLIO       GK   NaN  "
      ]
     },
     "execution_count": 35,
     "metadata": {},
     "output_type": "execute_result"
    }
   ],
   "source": [
    "players.head(2)"
   ]
  },
  {
   "cell_type": "markdown",
   "id": "8fc96493",
   "metadata": {
    "papermill": {
     "duration": 0.016849,
     "end_time": "2022-09-06T21:58:32.581122",
     "exception": false,
     "start_time": "2022-09-06T21:58:32.564273",
     "status": "completed"
    },
    "tags": []
   },
   "source": [
    "# matches join worldcup"
   ]
  },
  {
   "cell_type": "code",
   "execution_count": 36,
   "id": "8be18b82",
   "metadata": {
    "execution": {
     "iopub.execute_input": "2022-09-06T21:58:32.617681Z",
     "iopub.status.busy": "2022-09-06T21:58:32.616829Z",
     "iopub.status.idle": "2022-09-06T21:58:32.622312Z",
     "shell.execute_reply": "2022-09-06T21:58:32.621474Z"
    },
    "papermill": {
     "duration": 0.026496,
     "end_time": "2022-09-06T21:58:32.624729",
     "exception": false,
     "start_time": "2022-09-06T21:58:32.598233",
     "status": "completed"
    },
    "tags": []
   },
   "outputs": [],
   "source": [
    "matches.Year=matches.Year.astype(int)"
   ]
  },
  {
   "cell_type": "code",
   "execution_count": 37,
   "id": "0da5ff69",
   "metadata": {
    "execution": {
     "iopub.execute_input": "2022-09-06T21:58:32.661804Z",
     "iopub.status.busy": "2022-09-06T21:58:32.660959Z",
     "iopub.status.idle": "2022-09-06T21:58:32.667270Z",
     "shell.execute_reply": "2022-09-06T21:58:32.666452Z"
    },
    "papermill": {
     "duration": 0.027258,
     "end_time": "2022-09-06T21:58:32.669442",
     "exception": false,
     "start_time": "2022-09-06T21:58:32.642184",
     "status": "completed"
    },
    "tags": []
   },
   "outputs": [
    {
     "data": {
      "text/plain": [
       "(850, 20)"
      ]
     },
     "execution_count": 37,
     "metadata": {},
     "output_type": "execute_result"
    }
   ],
   "source": [
    "matches.shape"
   ]
  },
  {
   "cell_type": "code",
   "execution_count": 38,
   "id": "d719cb22",
   "metadata": {
    "execution": {
     "iopub.execute_input": "2022-09-06T21:58:32.707039Z",
     "iopub.status.busy": "2022-09-06T21:58:32.706174Z",
     "iopub.status.idle": "2022-09-06T21:58:32.712739Z",
     "shell.execute_reply": "2022-09-06T21:58:32.711804Z"
    },
    "papermill": {
     "duration": 0.027697,
     "end_time": "2022-09-06T21:58:32.714804",
     "exception": false,
     "start_time": "2022-09-06T21:58:32.687107",
     "status": "completed"
    },
    "tags": []
   },
   "outputs": [
    {
     "data": {
      "text/plain": [
       "(20, 10)"
      ]
     },
     "execution_count": 38,
     "metadata": {},
     "output_type": "execute_result"
    }
   ],
   "source": [
    "world_cup.shape"
   ]
  },
  {
   "cell_type": "code",
   "execution_count": 39,
   "id": "626171d4",
   "metadata": {
    "execution": {
     "iopub.execute_input": "2022-09-06T21:58:32.752854Z",
     "iopub.status.busy": "2022-09-06T21:58:32.751654Z",
     "iopub.status.idle": "2022-09-06T21:58:32.773965Z",
     "shell.execute_reply": "2022-09-06T21:58:32.772664Z"
    },
    "papermill": {
     "duration": 0.044221,
     "end_time": "2022-09-06T21:58:32.776878",
     "exception": false,
     "start_time": "2022-09-06T21:58:32.732657",
     "status": "completed"
    },
    "tags": []
   },
   "outputs": [],
   "source": [
    "matches_world_cup = matches.merge(world_cup, on=[\"Year\"])"
   ]
  },
  {
   "cell_type": "code",
   "execution_count": 40,
   "id": "8e9c6210",
   "metadata": {
    "execution": {
     "iopub.execute_input": "2022-09-06T21:58:32.815725Z",
     "iopub.status.busy": "2022-09-06T21:58:32.814989Z",
     "iopub.status.idle": "2022-09-06T21:58:32.821059Z",
     "shell.execute_reply": "2022-09-06T21:58:32.820172Z"
    },
    "papermill": {
     "duration": 0.028384,
     "end_time": "2022-09-06T21:58:32.823234",
     "exception": false,
     "start_time": "2022-09-06T21:58:32.794850",
     "status": "completed"
    },
    "tags": []
   },
   "outputs": [
    {
     "data": {
      "text/plain": [
       "(850, 29)"
      ]
     },
     "execution_count": 40,
     "metadata": {},
     "output_type": "execute_result"
    }
   ],
   "source": [
    "matches_world_cup.shape"
   ]
  },
  {
   "cell_type": "code",
   "execution_count": 41,
   "id": "f0c3adbf",
   "metadata": {
    "execution": {
     "iopub.execute_input": "2022-09-06T21:58:32.861467Z",
     "iopub.status.busy": "2022-09-06T21:58:32.860744Z",
     "iopub.status.idle": "2022-09-06T21:58:32.867693Z",
     "shell.execute_reply": "2022-09-06T21:58:32.866477Z"
    },
    "papermill": {
     "duration": 0.02832,
     "end_time": "2022-09-06T21:58:32.869876",
     "exception": false,
     "start_time": "2022-09-06T21:58:32.841556",
     "status": "completed"
    },
    "tags": []
   },
   "outputs": [
    {
     "data": {
      "text/plain": [
       "Index(['Year', 'Datetime', 'Stage', 'Stadium', 'City', 'Home Team Name',\n",
       "       'Home Team Goals', 'Away Team Goals', 'Away Team Name',\n",
       "       'Win conditions', 'Attendance_x', 'Half-time Home Goals',\n",
       "       'Half-time Away Goals', 'Referee', 'Assistant 1', 'Assistant 2',\n",
       "       'RoundID', 'MatchID', 'Home Team Initials', 'Away Team Initials',\n",
       "       'Country', 'Winner', 'Runners-Up', 'Third', 'Fourth', 'GoalsScored',\n",
       "       'QualifiedTeams', 'MatchesPlayed', 'Attendance_y'],\n",
       "      dtype='object')"
      ]
     },
     "execution_count": 41,
     "metadata": {},
     "output_type": "execute_result"
    }
   ],
   "source": [
    "matches_world_cup.columns"
   ]
  },
  {
   "cell_type": "code",
   "execution_count": 42,
   "id": "54724557",
   "metadata": {
    "execution": {
     "iopub.execute_input": "2022-09-06T21:58:32.907573Z",
     "iopub.status.busy": "2022-09-06T21:58:32.907085Z",
     "iopub.status.idle": "2022-09-06T21:58:32.923190Z",
     "shell.execute_reply": "2022-09-06T21:58:32.922213Z"
    },
    "papermill": {
     "duration": 0.038383,
     "end_time": "2022-09-06T21:58:32.926089",
     "exception": false,
     "start_time": "2022-09-06T21:58:32.887706",
     "status": "completed"
    },
    "tags": []
   },
   "outputs": [],
   "source": [
    "goals_time=matches_world_cup.groupby([\"Winner\",\"Year\"]).agg({\"Home Team Goals\" : np.sum,\n",
    "                                                      \"Away Team Goals\" : np.sum,\n",
    "                                                      \"Half-time Home Goals\" : np.sum,\n",
    "                                                      \"Half-time Away Goals\" : np.sum,\n",
    "                                                                 })\\\n",
    "                                    .reset_index()"
   ]
  },
  {
   "cell_type": "code",
   "execution_count": 43,
   "id": "3972cbd7",
   "metadata": {
    "execution": {
     "iopub.execute_input": "2022-09-06T21:58:32.963588Z",
     "iopub.status.busy": "2022-09-06T21:58:32.963150Z",
     "iopub.status.idle": "2022-09-06T21:58:32.968898Z",
     "shell.execute_reply": "2022-09-06T21:58:32.967901Z"
    },
    "papermill": {
     "duration": 0.02692,
     "end_time": "2022-09-06T21:58:32.971011",
     "exception": false,
     "start_time": "2022-09-06T21:58:32.944091",
     "status": "completed"
    },
    "tags": []
   },
   "outputs": [],
   "source": [
    "goals_time=goals_time.sort_values(by=['Year'])"
   ]
  },
  {
   "cell_type": "code",
   "execution_count": 44,
   "id": "b7630c01",
   "metadata": {
    "execution": {
     "iopub.execute_input": "2022-09-06T21:58:33.009001Z",
     "iopub.status.busy": "2022-09-06T21:58:33.008303Z",
     "iopub.status.idle": "2022-09-06T21:58:33.017499Z",
     "shell.execute_reply": "2022-09-06T21:58:33.016530Z"
    },
    "papermill": {
     "duration": 0.031084,
     "end_time": "2022-09-06T21:58:33.020086",
     "exception": false,
     "start_time": "2022-09-06T21:58:32.989002",
     "status": "completed"
    },
    "tags": []
   },
   "outputs": [],
   "source": [
    "goals_time['goals_diff']=abs(goals_time['Home Team Goals']-goals_time['Away Team Goals'])\n",
    "goals_time['goals_scored_1st_half']=goals_time['Half-time Home Goals']\n",
    "goals_time['goals_scored_2nd_half']=goals_time['Home Team Goals']-goals_time['Half-time Home Goals']\n",
    "goals_time['goals_received_1st_half']=goals_time['Half-time Away Goals']\n",
    "goals_time['goals_received_2nd_half']=goals_time['Away Team Goals']-goals_time['Half-time Away Goals']"
   ]
  },
  {
   "cell_type": "code",
   "execution_count": 45,
   "id": "7768fd47",
   "metadata": {
    "execution": {
     "iopub.execute_input": "2022-09-06T21:58:33.058650Z",
     "iopub.status.busy": "2022-09-06T21:58:33.058215Z",
     "iopub.status.idle": "2022-09-06T21:58:33.091355Z",
     "shell.execute_reply": "2022-09-06T21:58:33.090186Z"
    },
    "papermill": {
     "duration": 0.055718,
     "end_time": "2022-09-06T21:58:33.093882",
     "exception": false,
     "start_time": "2022-09-06T21:58:33.038164",
     "status": "completed"
    },
    "tags": []
   },
   "outputs": [
    {
     "data": {
      "text/html": [
       "<div>\n",
       "<style scoped>\n",
       "    .dataframe tbody tr th:only-of-type {\n",
       "        vertical-align: middle;\n",
       "    }\n",
       "\n",
       "    .dataframe tbody tr th {\n",
       "        vertical-align: top;\n",
       "    }\n",
       "\n",
       "    .dataframe thead th {\n",
       "        text-align: right;\n",
       "    }\n",
       "</style>\n",
       "<table border=\"1\" class=\"dataframe\">\n",
       "  <thead>\n",
       "    <tr style=\"text-align: right;\">\n",
       "      <th></th>\n",
       "      <th>Winner</th>\n",
       "      <th>Year</th>\n",
       "      <th>Home Team Goals</th>\n",
       "      <th>Away Team Goals</th>\n",
       "      <th>Half-time Home Goals</th>\n",
       "      <th>Half-time Away Goals</th>\n",
       "      <th>goals_diff</th>\n",
       "      <th>goals_scored_1st_half</th>\n",
       "      <th>goals_scored_2nd_half</th>\n",
       "      <th>goals_received_1st_half</th>\n",
       "      <th>goals_received_2nd_half</th>\n",
       "    </tr>\n",
       "  </thead>\n",
       "  <tbody>\n",
       "    <tr>\n",
       "      <th>18</th>\n",
       "      <td>Uruguay</td>\n",
       "      <td>1930</td>\n",
       "      <td>59.0</td>\n",
       "      <td>11.0</td>\n",
       "      <td>27.0</td>\n",
       "      <td>5.0</td>\n",
       "      <td>48.0</td>\n",
       "      <td>27.0</td>\n",
       "      <td>32.0</td>\n",
       "      <td>5.0</td>\n",
       "      <td>6.0</td>\n",
       "    </tr>\n",
       "    <tr>\n",
       "      <th>13</th>\n",
       "      <td>Italy</td>\n",
       "      <td>1934</td>\n",
       "      <td>48.0</td>\n",
       "      <td>22.0</td>\n",
       "      <td>20.0</td>\n",
       "      <td>9.0</td>\n",
       "      <td>26.0</td>\n",
       "      <td>20.0</td>\n",
       "      <td>28.0</td>\n",
       "      <td>9.0</td>\n",
       "      <td>13.0</td>\n",
       "    </tr>\n",
       "    <tr>\n",
       "      <th>14</th>\n",
       "      <td>Italy</td>\n",
       "      <td>1938</td>\n",
       "      <td>61.0</td>\n",
       "      <td>23.0</td>\n",
       "      <td>20.0</td>\n",
       "      <td>10.0</td>\n",
       "      <td>38.0</td>\n",
       "      <td>20.0</td>\n",
       "      <td>41.0</td>\n",
       "      <td>10.0</td>\n",
       "      <td>13.0</td>\n",
       "    </tr>\n",
       "    <tr>\n",
       "      <th>19</th>\n",
       "      <td>Uruguay</td>\n",
       "      <td>1950</td>\n",
       "      <td>69.0</td>\n",
       "      <td>19.0</td>\n",
       "      <td>33.0</td>\n",
       "      <td>8.0</td>\n",
       "      <td>50.0</td>\n",
       "      <td>33.0</td>\n",
       "      <td>36.0</td>\n",
       "      <td>8.0</td>\n",
       "      <td>11.0</td>\n",
       "    </tr>\n",
       "    <tr>\n",
       "      <th>10</th>\n",
       "      <td>Germany FR</td>\n",
       "      <td>1954</td>\n",
       "      <td>109.0</td>\n",
       "      <td>31.0</td>\n",
       "      <td>46.0</td>\n",
       "      <td>13.0</td>\n",
       "      <td>78.0</td>\n",
       "      <td>46.0</td>\n",
       "      <td>63.0</td>\n",
       "      <td>13.0</td>\n",
       "      <td>18.0</td>\n",
       "    </tr>\n",
       "    <tr>\n",
       "      <th>2</th>\n",
       "      <td>Brazil</td>\n",
       "      <td>1958</td>\n",
       "      <td>88.0</td>\n",
       "      <td>38.0</td>\n",
       "      <td>34.0</td>\n",
       "      <td>20.0</td>\n",
       "      <td>50.0</td>\n",
       "      <td>34.0</td>\n",
       "      <td>54.0</td>\n",
       "      <td>20.0</td>\n",
       "      <td>18.0</td>\n",
       "    </tr>\n",
       "    <tr>\n",
       "      <th>3</th>\n",
       "      <td>Brazil</td>\n",
       "      <td>1962</td>\n",
       "      <td>69.0</td>\n",
       "      <td>20.0</td>\n",
       "      <td>29.0</td>\n",
       "      <td>10.0</td>\n",
       "      <td>49.0</td>\n",
       "      <td>29.0</td>\n",
       "      <td>40.0</td>\n",
       "      <td>10.0</td>\n",
       "      <td>10.0</td>\n",
       "    </tr>\n",
       "    <tr>\n",
       "      <th>7</th>\n",
       "      <td>England</td>\n",
       "      <td>1966</td>\n",
       "      <td>69.0</td>\n",
       "      <td>20.0</td>\n",
       "      <td>29.0</td>\n",
       "      <td>11.0</td>\n",
       "      <td>49.0</td>\n",
       "      <td>29.0</td>\n",
       "      <td>40.0</td>\n",
       "      <td>11.0</td>\n",
       "      <td>9.0</td>\n",
       "    </tr>\n",
       "    <tr>\n",
       "      <th>4</th>\n",
       "      <td>Brazil</td>\n",
       "      <td>1970</td>\n",
       "      <td>72.0</td>\n",
       "      <td>23.0</td>\n",
       "      <td>21.0</td>\n",
       "      <td>11.0</td>\n",
       "      <td>49.0</td>\n",
       "      <td>21.0</td>\n",
       "      <td>51.0</td>\n",
       "      <td>11.0</td>\n",
       "      <td>12.0</td>\n",
       "    </tr>\n",
       "    <tr>\n",
       "      <th>11</th>\n",
       "      <td>Germany FR</td>\n",
       "      <td>1974</td>\n",
       "      <td>51.0</td>\n",
       "      <td>46.0</td>\n",
       "      <td>21.0</td>\n",
       "      <td>24.0</td>\n",
       "      <td>5.0</td>\n",
       "      <td>21.0</td>\n",
       "      <td>30.0</td>\n",
       "      <td>24.0</td>\n",
       "      <td>22.0</td>\n",
       "    </tr>\n",
       "    <tr>\n",
       "      <th>0</th>\n",
       "      <td>Argentina</td>\n",
       "      <td>1978</td>\n",
       "      <td>79.0</td>\n",
       "      <td>23.0</td>\n",
       "      <td>36.0</td>\n",
       "      <td>14.0</td>\n",
       "      <td>56.0</td>\n",
       "      <td>36.0</td>\n",
       "      <td>43.0</td>\n",
       "      <td>14.0</td>\n",
       "      <td>9.0</td>\n",
       "    </tr>\n",
       "    <tr>\n",
       "      <th>15</th>\n",
       "      <td>Italy</td>\n",
       "      <td>1982</td>\n",
       "      <td>97.0</td>\n",
       "      <td>49.0</td>\n",
       "      <td>33.0</td>\n",
       "      <td>15.0</td>\n",
       "      <td>48.0</td>\n",
       "      <td>33.0</td>\n",
       "      <td>64.0</td>\n",
       "      <td>15.0</td>\n",
       "      <td>34.0</td>\n",
       "    </tr>\n",
       "    <tr>\n",
       "      <th>1</th>\n",
       "      <td>Argentina</td>\n",
       "      <td>1986</td>\n",
       "      <td>74.0</td>\n",
       "      <td>58.0</td>\n",
       "      <td>25.0</td>\n",
       "      <td>23.0</td>\n",
       "      <td>16.0</td>\n",
       "      <td>25.0</td>\n",
       "      <td>49.0</td>\n",
       "      <td>23.0</td>\n",
       "      <td>35.0</td>\n",
       "    </tr>\n",
       "    <tr>\n",
       "      <th>12</th>\n",
       "      <td>Germany FR</td>\n",
       "      <td>1990</td>\n",
       "      <td>67.0</td>\n",
       "      <td>48.0</td>\n",
       "      <td>20.0</td>\n",
       "      <td>12.0</td>\n",
       "      <td>19.0</td>\n",
       "      <td>20.0</td>\n",
       "      <td>47.0</td>\n",
       "      <td>12.0</td>\n",
       "      <td>36.0</td>\n",
       "    </tr>\n",
       "    <tr>\n",
       "      <th>5</th>\n",
       "      <td>Brazil</td>\n",
       "      <td>1994</td>\n",
       "      <td>83.0</td>\n",
       "      <td>58.0</td>\n",
       "      <td>39.0</td>\n",
       "      <td>23.0</td>\n",
       "      <td>25.0</td>\n",
       "      <td>39.0</td>\n",
       "      <td>44.0</td>\n",
       "      <td>23.0</td>\n",
       "      <td>35.0</td>\n",
       "    </tr>\n",
       "    <tr>\n",
       "      <th>8</th>\n",
       "      <td>France</td>\n",
       "      <td>1998</td>\n",
       "      <td>98.0</td>\n",
       "      <td>73.0</td>\n",
       "      <td>39.0</td>\n",
       "      <td>27.0</td>\n",
       "      <td>25.0</td>\n",
       "      <td>39.0</td>\n",
       "      <td>59.0</td>\n",
       "      <td>27.0</td>\n",
       "      <td>46.0</td>\n",
       "    </tr>\n",
       "    <tr>\n",
       "      <th>6</th>\n",
       "      <td>Brazil</td>\n",
       "      <td>2002</td>\n",
       "      <td>89.0</td>\n",
       "      <td>72.0</td>\n",
       "      <td>39.0</td>\n",
       "      <td>26.0</td>\n",
       "      <td>17.0</td>\n",
       "      <td>39.0</td>\n",
       "      <td>50.0</td>\n",
       "      <td>26.0</td>\n",
       "      <td>46.0</td>\n",
       "    </tr>\n",
       "    <tr>\n",
       "      <th>16</th>\n",
       "      <td>Italy</td>\n",
       "      <td>2006</td>\n",
       "      <td>86.0</td>\n",
       "      <td>61.0</td>\n",
       "      <td>36.0</td>\n",
       "      <td>30.0</td>\n",
       "      <td>25.0</td>\n",
       "      <td>36.0</td>\n",
       "      <td>50.0</td>\n",
       "      <td>30.0</td>\n",
       "      <td>31.0</td>\n",
       "    </tr>\n",
       "    <tr>\n",
       "      <th>17</th>\n",
       "      <td>Spain</td>\n",
       "      <td>2010</td>\n",
       "      <td>76.0</td>\n",
       "      <td>69.0</td>\n",
       "      <td>29.0</td>\n",
       "      <td>28.0</td>\n",
       "      <td>7.0</td>\n",
       "      <td>29.0</td>\n",
       "      <td>47.0</td>\n",
       "      <td>28.0</td>\n",
       "      <td>41.0</td>\n",
       "    </tr>\n",
       "    <tr>\n",
       "      <th>9</th>\n",
       "      <td>Germany</td>\n",
       "      <td>2014</td>\n",
       "      <td>95.0</td>\n",
       "      <td>105.0</td>\n",
       "      <td>28.0</td>\n",
       "      <td>46.0</td>\n",
       "      <td>10.0</td>\n",
       "      <td>28.0</td>\n",
       "      <td>67.0</td>\n",
       "      <td>46.0</td>\n",
       "      <td>59.0</td>\n",
       "    </tr>\n",
       "  </tbody>\n",
       "</table>\n",
       "</div>"
      ],
      "text/plain": [
       "        Winner  Year  Home Team Goals  Away Team Goals  Half-time Home Goals  \\\n",
       "18     Uruguay  1930             59.0             11.0                  27.0   \n",
       "13       Italy  1934             48.0             22.0                  20.0   \n",
       "14       Italy  1938             61.0             23.0                  20.0   \n",
       "19     Uruguay  1950             69.0             19.0                  33.0   \n",
       "10  Germany FR  1954            109.0             31.0                  46.0   \n",
       "2       Brazil  1958             88.0             38.0                  34.0   \n",
       "3       Brazil  1962             69.0             20.0                  29.0   \n",
       "7      England  1966             69.0             20.0                  29.0   \n",
       "4       Brazil  1970             72.0             23.0                  21.0   \n",
       "11  Germany FR  1974             51.0             46.0                  21.0   \n",
       "0    Argentina  1978             79.0             23.0                  36.0   \n",
       "15       Italy  1982             97.0             49.0                  33.0   \n",
       "1    Argentina  1986             74.0             58.0                  25.0   \n",
       "12  Germany FR  1990             67.0             48.0                  20.0   \n",
       "5       Brazil  1994             83.0             58.0                  39.0   \n",
       "8       France  1998             98.0             73.0                  39.0   \n",
       "6       Brazil  2002             89.0             72.0                  39.0   \n",
       "16       Italy  2006             86.0             61.0                  36.0   \n",
       "17       Spain  2010             76.0             69.0                  29.0   \n",
       "9      Germany  2014             95.0            105.0                  28.0   \n",
       "\n",
       "    Half-time Away Goals  goals_diff  goals_scored_1st_half  \\\n",
       "18                   5.0        48.0                   27.0   \n",
       "13                   9.0        26.0                   20.0   \n",
       "14                  10.0        38.0                   20.0   \n",
       "19                   8.0        50.0                   33.0   \n",
       "10                  13.0        78.0                   46.0   \n",
       "2                   20.0        50.0                   34.0   \n",
       "3                   10.0        49.0                   29.0   \n",
       "7                   11.0        49.0                   29.0   \n",
       "4                   11.0        49.0                   21.0   \n",
       "11                  24.0         5.0                   21.0   \n",
       "0                   14.0        56.0                   36.0   \n",
       "15                  15.0        48.0                   33.0   \n",
       "1                   23.0        16.0                   25.0   \n",
       "12                  12.0        19.0                   20.0   \n",
       "5                   23.0        25.0                   39.0   \n",
       "8                   27.0        25.0                   39.0   \n",
       "6                   26.0        17.0                   39.0   \n",
       "16                  30.0        25.0                   36.0   \n",
       "17                  28.0         7.0                   29.0   \n",
       "9                   46.0        10.0                   28.0   \n",
       "\n",
       "    goals_scored_2nd_half  goals_received_1st_half  goals_received_2nd_half  \n",
       "18                   32.0                      5.0                      6.0  \n",
       "13                   28.0                      9.0                     13.0  \n",
       "14                   41.0                     10.0                     13.0  \n",
       "19                   36.0                      8.0                     11.0  \n",
       "10                   63.0                     13.0                     18.0  \n",
       "2                    54.0                     20.0                     18.0  \n",
       "3                    40.0                     10.0                     10.0  \n",
       "7                    40.0                     11.0                      9.0  \n",
       "4                    51.0                     11.0                     12.0  \n",
       "11                   30.0                     24.0                     22.0  \n",
       "0                    43.0                     14.0                      9.0  \n",
       "15                   64.0                     15.0                     34.0  \n",
       "1                    49.0                     23.0                     35.0  \n",
       "12                   47.0                     12.0                     36.0  \n",
       "5                    44.0                     23.0                     35.0  \n",
       "8                    59.0                     27.0                     46.0  \n",
       "6                    50.0                     26.0                     46.0  \n",
       "16                   50.0                     30.0                     31.0  \n",
       "17                   47.0                     28.0                     41.0  \n",
       "9                    67.0                     46.0                     59.0  "
      ]
     },
     "execution_count": 45,
     "metadata": {},
     "output_type": "execute_result"
    }
   ],
   "source": [
    "goals_time"
   ]
  },
  {
   "cell_type": "code",
   "execution_count": 46,
   "id": "8d5c20e2",
   "metadata": {
    "execution": {
     "iopub.execute_input": "2022-09-06T21:58:33.133715Z",
     "iopub.status.busy": "2022-09-06T21:58:33.132517Z",
     "iopub.status.idle": "2022-09-06T21:58:34.404933Z",
     "shell.execute_reply": "2022-09-06T21:58:34.403744Z"
    },
    "papermill": {
     "duration": 1.295282,
     "end_time": "2022-09-06T21:58:34.407608",
     "exception": false,
     "start_time": "2022-09-06T21:58:33.112326",
     "status": "completed"
    },
    "tags": []
   },
   "outputs": [
    {
     "name": "stdout",
     "output_type": "stream",
     "text": [
      "Goals scored in first half vs second half by the winners\n"
     ]
    },
    {
     "data": {
      "text/html": [
       "        <script type=\"text/javascript\">\n",
       "        window.PlotlyConfig = {MathJaxConfig: 'local'};\n",
       "        if (window.MathJax && window.MathJax.Hub && window.MathJax.Hub.Config) {window.MathJax.Hub.Config({SVG: {font: \"STIX-Web\"}});}\n",
       "        if (typeof require !== 'undefined') {\n",
       "        require.undef(\"plotly\");\n",
       "        requirejs.config({\n",
       "            paths: {\n",
       "                'plotly': ['https://cdn.plot.ly/plotly-2.12.1.min']\n",
       "            }\n",
       "        });\n",
       "        require(['plotly'], function(Plotly) {\n",
       "            window._Plotly = Plotly;\n",
       "        });\n",
       "        }\n",
       "        </script>\n",
       "        "
      ]
     },
     "metadata": {},
     "output_type": "display_data"
    },
    {
     "data": {
      "text/html": [
       "<div>                            <div id=\"c336a20d-9013-4714-943b-e2cf87b53ef9\" class=\"plotly-graph-div\" style=\"height:525px; width:100%;\"></div>            <script type=\"text/javascript\">                require([\"plotly\"], function(Plotly) {                    window.PLOTLYENV=window.PLOTLYENV || {};                                    if (document.getElementById(\"c336a20d-9013-4714-943b-e2cf87b53ef9\")) {                    Plotly.newPlot(                        \"c336a20d-9013-4714-943b-e2cf87b53ef9\",                        [{\"alignmentgroup\":\"True\",\"customdata\":[[\"Germany FR\"],[\"France\"],[\"Italy\"],[\"Germany\"],[\"Brazil\"],[\"Brazil\"],[\"Italy\"],[\"Brazil\"],[\"Argentina\"],[\"Spain\"],[\"Argentina\"],[\"Brazil\"],[\"England\"],[\"Brazil\"],[\"Uruguay\"],[\"Germany FR\"],[\"Italy\"],[\"Uruguay\"],[\"Germany FR\"],[\"Italy\"]],\"hovertemplate\":\"variable=goals_scored_1st_half<br>Year=%{x}<br>value=%{y}<br>Winner=%{customdata[0]}<extra></extra>\",\"legendgroup\":\"goals_scored_1st_half\",\"marker\":{\"color\":\"#636efa\",\"pattern\":{\"shape\":\"\"}},\"name\":\"goals_scored_1st_half\",\"offsetgroup\":\"goals_scored_1st_half\",\"orientation\":\"v\",\"showlegend\":true,\"textposition\":\"auto\",\"x\":[1954,1998,1982,2014,2002,1958,2006,1994,1978,2010,1986,1970,1966,1962,1950,1990,1938,1930,1974,1934],\"xaxis\":\"x\",\"y\":[46.0,39.0,33.0,28.0,39.0,34.0,36.0,39.0,36.0,29.0,25.0,21.0,29.0,29.0,33.0,20.0,20.0,27.0,21.0,20.0],\"yaxis\":\"y\",\"type\":\"bar\"},{\"alignmentgroup\":\"True\",\"customdata\":[[\"Germany FR\"],[\"France\"],[\"Italy\"],[\"Germany\"],[\"Brazil\"],[\"Brazil\"],[\"Italy\"],[\"Brazil\"],[\"Argentina\"],[\"Spain\"],[\"Argentina\"],[\"Brazil\"],[\"England\"],[\"Brazil\"],[\"Uruguay\"],[\"Germany FR\"],[\"Italy\"],[\"Uruguay\"],[\"Germany FR\"],[\"Italy\"]],\"hovertemplate\":\"variable=goals_scored_2nd_half<br>Year=%{x}<br>value=%{y}<br>Winner=%{customdata[0]}<extra></extra>\",\"legendgroup\":\"goals_scored_2nd_half\",\"marker\":{\"color\":\"#EF553B\",\"pattern\":{\"shape\":\"\"}},\"name\":\"goals_scored_2nd_half\",\"offsetgroup\":\"goals_scored_2nd_half\",\"orientation\":\"v\",\"showlegend\":true,\"textposition\":\"auto\",\"x\":[1954,1998,1982,2014,2002,1958,2006,1994,1978,2010,1986,1970,1966,1962,1950,1990,1938,1930,1974,1934],\"xaxis\":\"x\",\"y\":[63.0,59.0,64.0,67.0,50.0,54.0,50.0,44.0,43.0,47.0,49.0,51.0,40.0,40.0,36.0,47.0,41.0,32.0,30.0,28.0],\"yaxis\":\"y\",\"type\":\"bar\"}],                        {\"template\":{\"data\":{\"histogram2dcontour\":[{\"type\":\"histogram2dcontour\",\"colorbar\":{\"outlinewidth\":0,\"ticks\":\"\"},\"colorscale\":[[0.0,\"#0d0887\"],[0.1111111111111111,\"#46039f\"],[0.2222222222222222,\"#7201a8\"],[0.3333333333333333,\"#9c179e\"],[0.4444444444444444,\"#bd3786\"],[0.5555555555555556,\"#d8576b\"],[0.6666666666666666,\"#ed7953\"],[0.7777777777777778,\"#fb9f3a\"],[0.8888888888888888,\"#fdca26\"],[1.0,\"#f0f921\"]]}],\"choropleth\":[{\"type\":\"choropleth\",\"colorbar\":{\"outlinewidth\":0,\"ticks\":\"\"}}],\"histogram2d\":[{\"type\":\"histogram2d\",\"colorbar\":{\"outlinewidth\":0,\"ticks\":\"\"},\"colorscale\":[[0.0,\"#0d0887\"],[0.1111111111111111,\"#46039f\"],[0.2222222222222222,\"#7201a8\"],[0.3333333333333333,\"#9c179e\"],[0.4444444444444444,\"#bd3786\"],[0.5555555555555556,\"#d8576b\"],[0.6666666666666666,\"#ed7953\"],[0.7777777777777778,\"#fb9f3a\"],[0.8888888888888888,\"#fdca26\"],[1.0,\"#f0f921\"]]}],\"heatmap\":[{\"type\":\"heatmap\",\"colorbar\":{\"outlinewidth\":0,\"ticks\":\"\"},\"colorscale\":[[0.0,\"#0d0887\"],[0.1111111111111111,\"#46039f\"],[0.2222222222222222,\"#7201a8\"],[0.3333333333333333,\"#9c179e\"],[0.4444444444444444,\"#bd3786\"],[0.5555555555555556,\"#d8576b\"],[0.6666666666666666,\"#ed7953\"],[0.7777777777777778,\"#fb9f3a\"],[0.8888888888888888,\"#fdca26\"],[1.0,\"#f0f921\"]]}],\"heatmapgl\":[{\"type\":\"heatmapgl\",\"colorbar\":{\"outlinewidth\":0,\"ticks\":\"\"},\"colorscale\":[[0.0,\"#0d0887\"],[0.1111111111111111,\"#46039f\"],[0.2222222222222222,\"#7201a8\"],[0.3333333333333333,\"#9c179e\"],[0.4444444444444444,\"#bd3786\"],[0.5555555555555556,\"#d8576b\"],[0.6666666666666666,\"#ed7953\"],[0.7777777777777778,\"#fb9f3a\"],[0.8888888888888888,\"#fdca26\"],[1.0,\"#f0f921\"]]}],\"contourcarpet\":[{\"type\":\"contourcarpet\",\"colorbar\":{\"outlinewidth\":0,\"ticks\":\"\"}}],\"contour\":[{\"type\":\"contour\",\"colorbar\":{\"outlinewidth\":0,\"ticks\":\"\"},\"colorscale\":[[0.0,\"#0d0887\"],[0.1111111111111111,\"#46039f\"],[0.2222222222222222,\"#7201a8\"],[0.3333333333333333,\"#9c179e\"],[0.4444444444444444,\"#bd3786\"],[0.5555555555555556,\"#d8576b\"],[0.6666666666666666,\"#ed7953\"],[0.7777777777777778,\"#fb9f3a\"],[0.8888888888888888,\"#fdca26\"],[1.0,\"#f0f921\"]]}],\"surface\":[{\"type\":\"surface\",\"colorbar\":{\"outlinewidth\":0,\"ticks\":\"\"},\"colorscale\":[[0.0,\"#0d0887\"],[0.1111111111111111,\"#46039f\"],[0.2222222222222222,\"#7201a8\"],[0.3333333333333333,\"#9c179e\"],[0.4444444444444444,\"#bd3786\"],[0.5555555555555556,\"#d8576b\"],[0.6666666666666666,\"#ed7953\"],[0.7777777777777778,\"#fb9f3a\"],[0.8888888888888888,\"#fdca26\"],[1.0,\"#f0f921\"]]}],\"mesh3d\":[{\"type\":\"mesh3d\",\"colorbar\":{\"outlinewidth\":0,\"ticks\":\"\"}}],\"scatter\":[{\"fillpattern\":{\"fillmode\":\"overlay\",\"size\":10,\"solidity\":0.2},\"type\":\"scatter\"}],\"parcoords\":[{\"type\":\"parcoords\",\"line\":{\"colorbar\":{\"outlinewidth\":0,\"ticks\":\"\"}}}],\"scatterpolargl\":[{\"type\":\"scatterpolargl\",\"marker\":{\"colorbar\":{\"outlinewidth\":0,\"ticks\":\"\"}}}],\"bar\":[{\"error_x\":{\"color\":\"#2a3f5f\"},\"error_y\":{\"color\":\"#2a3f5f\"},\"marker\":{\"line\":{\"color\":\"#E5ECF6\",\"width\":0.5},\"pattern\":{\"fillmode\":\"overlay\",\"size\":10,\"solidity\":0.2}},\"type\":\"bar\"}],\"scattergeo\":[{\"type\":\"scattergeo\",\"marker\":{\"colorbar\":{\"outlinewidth\":0,\"ticks\":\"\"}}}],\"scatterpolar\":[{\"type\":\"scatterpolar\",\"marker\":{\"colorbar\":{\"outlinewidth\":0,\"ticks\":\"\"}}}],\"histogram\":[{\"marker\":{\"pattern\":{\"fillmode\":\"overlay\",\"size\":10,\"solidity\":0.2}},\"type\":\"histogram\"}],\"scattergl\":[{\"type\":\"scattergl\",\"marker\":{\"colorbar\":{\"outlinewidth\":0,\"ticks\":\"\"}}}],\"scatter3d\":[{\"type\":\"scatter3d\",\"line\":{\"colorbar\":{\"outlinewidth\":0,\"ticks\":\"\"}},\"marker\":{\"colorbar\":{\"outlinewidth\":0,\"ticks\":\"\"}}}],\"scattermapbox\":[{\"type\":\"scattermapbox\",\"marker\":{\"colorbar\":{\"outlinewidth\":0,\"ticks\":\"\"}}}],\"scatterternary\":[{\"type\":\"scatterternary\",\"marker\":{\"colorbar\":{\"outlinewidth\":0,\"ticks\":\"\"}}}],\"scattercarpet\":[{\"type\":\"scattercarpet\",\"marker\":{\"colorbar\":{\"outlinewidth\":0,\"ticks\":\"\"}}}],\"carpet\":[{\"aaxis\":{\"endlinecolor\":\"#2a3f5f\",\"gridcolor\":\"white\",\"linecolor\":\"white\",\"minorgridcolor\":\"white\",\"startlinecolor\":\"#2a3f5f\"},\"baxis\":{\"endlinecolor\":\"#2a3f5f\",\"gridcolor\":\"white\",\"linecolor\":\"white\",\"minorgridcolor\":\"white\",\"startlinecolor\":\"#2a3f5f\"},\"type\":\"carpet\"}],\"table\":[{\"cells\":{\"fill\":{\"color\":\"#EBF0F8\"},\"line\":{\"color\":\"white\"}},\"header\":{\"fill\":{\"color\":\"#C8D4E3\"},\"line\":{\"color\":\"white\"}},\"type\":\"table\"}],\"barpolar\":[{\"marker\":{\"line\":{\"color\":\"#E5ECF6\",\"width\":0.5},\"pattern\":{\"fillmode\":\"overlay\",\"size\":10,\"solidity\":0.2}},\"type\":\"barpolar\"}],\"pie\":[{\"automargin\":true,\"type\":\"pie\"}]},\"layout\":{\"autotypenumbers\":\"strict\",\"colorway\":[\"#636efa\",\"#EF553B\",\"#00cc96\",\"#ab63fa\",\"#FFA15A\",\"#19d3f3\",\"#FF6692\",\"#B6E880\",\"#FF97FF\",\"#FECB52\"],\"font\":{\"color\":\"#2a3f5f\"},\"hovermode\":\"closest\",\"hoverlabel\":{\"align\":\"left\"},\"paper_bgcolor\":\"white\",\"plot_bgcolor\":\"#E5ECF6\",\"polar\":{\"bgcolor\":\"#E5ECF6\",\"angularaxis\":{\"gridcolor\":\"white\",\"linecolor\":\"white\",\"ticks\":\"\"},\"radialaxis\":{\"gridcolor\":\"white\",\"linecolor\":\"white\",\"ticks\":\"\"}},\"ternary\":{\"bgcolor\":\"#E5ECF6\",\"aaxis\":{\"gridcolor\":\"white\",\"linecolor\":\"white\",\"ticks\":\"\"},\"baxis\":{\"gridcolor\":\"white\",\"linecolor\":\"white\",\"ticks\":\"\"},\"caxis\":{\"gridcolor\":\"white\",\"linecolor\":\"white\",\"ticks\":\"\"}},\"coloraxis\":{\"colorbar\":{\"outlinewidth\":0,\"ticks\":\"\"}},\"colorscale\":{\"sequential\":[[0.0,\"#0d0887\"],[0.1111111111111111,\"#46039f\"],[0.2222222222222222,\"#7201a8\"],[0.3333333333333333,\"#9c179e\"],[0.4444444444444444,\"#bd3786\"],[0.5555555555555556,\"#d8576b\"],[0.6666666666666666,\"#ed7953\"],[0.7777777777777778,\"#fb9f3a\"],[0.8888888888888888,\"#fdca26\"],[1.0,\"#f0f921\"]],\"sequentialminus\":[[0.0,\"#0d0887\"],[0.1111111111111111,\"#46039f\"],[0.2222222222222222,\"#7201a8\"],[0.3333333333333333,\"#9c179e\"],[0.4444444444444444,\"#bd3786\"],[0.5555555555555556,\"#d8576b\"],[0.6666666666666666,\"#ed7953\"],[0.7777777777777778,\"#fb9f3a\"],[0.8888888888888888,\"#fdca26\"],[1.0,\"#f0f921\"]],\"diverging\":[[0,\"#8e0152\"],[0.1,\"#c51b7d\"],[0.2,\"#de77ae\"],[0.3,\"#f1b6da\"],[0.4,\"#fde0ef\"],[0.5,\"#f7f7f7\"],[0.6,\"#e6f5d0\"],[0.7,\"#b8e186\"],[0.8,\"#7fbc41\"],[0.9,\"#4d9221\"],[1,\"#276419\"]]},\"xaxis\":{\"gridcolor\":\"white\",\"linecolor\":\"white\",\"ticks\":\"\",\"title\":{\"standoff\":15},\"zerolinecolor\":\"white\",\"automargin\":true,\"zerolinewidth\":2},\"yaxis\":{\"gridcolor\":\"white\",\"linecolor\":\"white\",\"ticks\":\"\",\"title\":{\"standoff\":15},\"zerolinecolor\":\"white\",\"automargin\":true,\"zerolinewidth\":2},\"scene\":{\"xaxis\":{\"backgroundcolor\":\"#E5ECF6\",\"gridcolor\":\"white\",\"linecolor\":\"white\",\"showbackground\":true,\"ticks\":\"\",\"zerolinecolor\":\"white\",\"gridwidth\":2},\"yaxis\":{\"backgroundcolor\":\"#E5ECF6\",\"gridcolor\":\"white\",\"linecolor\":\"white\",\"showbackground\":true,\"ticks\":\"\",\"zerolinecolor\":\"white\",\"gridwidth\":2},\"zaxis\":{\"backgroundcolor\":\"#E5ECF6\",\"gridcolor\":\"white\",\"linecolor\":\"white\",\"showbackground\":true,\"ticks\":\"\",\"zerolinecolor\":\"white\",\"gridwidth\":2}},\"shapedefaults\":{\"line\":{\"color\":\"#2a3f5f\"}},\"annotationdefaults\":{\"arrowcolor\":\"#2a3f5f\",\"arrowhead\":0,\"arrowwidth\":1},\"geo\":{\"bgcolor\":\"white\",\"landcolor\":\"#E5ECF6\",\"subunitcolor\":\"white\",\"showland\":true,\"showlakes\":true,\"lakecolor\":\"white\"},\"title\":{\"x\":0.05},\"mapbox\":{\"style\":\"light\"}}},\"xaxis\":{\"anchor\":\"y\",\"domain\":[0.0,1.0],\"title\":{\"text\":\"Year\"}},\"yaxis\":{\"anchor\":\"x\",\"domain\":[0.0,1.0],\"title\":{\"text\":\"value\"}},\"legend\":{\"title\":{\"text\":\"variable\"},\"tracegroupgap\":0},\"margin\":{\"t\":60},\"barmode\":\"group\"},                        {\"responsive\": true}                    ).then(function(){\n",
       "                            \n",
       "var gd = document.getElementById('c336a20d-9013-4714-943b-e2cf87b53ef9');\n",
       "var x = new MutationObserver(function (mutations, observer) {{\n",
       "        var display = window.getComputedStyle(gd).display;\n",
       "        if (!display || display === 'none') {{\n",
       "            console.log([gd, 'removed!']);\n",
       "            Plotly.purge(gd);\n",
       "            observer.disconnect();\n",
       "        }}\n",
       "}});\n",
       "\n",
       "// Listen for the removal of the full notebook cells\n",
       "var notebookContainer = gd.closest('#notebook-container');\n",
       "if (notebookContainer) {{\n",
       "    x.observe(notebookContainer, {childList: true});\n",
       "}}\n",
       "\n",
       "// Listen for the clearing of the current output cell\n",
       "var outputEl = gd.closest('.output');\n",
       "if (outputEl) {{\n",
       "    x.observe(outputEl, {childList: true});\n",
       "}}\n",
       "\n",
       "                        })                };                });            </script>        </div>"
      ]
     },
     "metadata": {},
     "output_type": "display_data"
    }
   ],
   "source": [
    "print('Goals scored in first half vs second half by the winners')\n",
    "px.bar(goals_time.sort_values(by=['Home Team Goals'], ascending=False),x='Year',y=['goals_scored_1st_half','goals_scored_2nd_half'], barmode='group',hover_data=['Winner'] )\n"
   ]
  },
  {
   "cell_type": "code",
   "execution_count": 47,
   "id": "d85b2499",
   "metadata": {
    "execution": {
     "iopub.execute_input": "2022-09-06T21:58:34.447420Z",
     "iopub.status.busy": "2022-09-06T21:58:34.447011Z",
     "iopub.status.idle": "2022-09-06T21:58:34.861831Z",
     "shell.execute_reply": "2022-09-06T21:58:34.860685Z"
    },
    "papermill": {
     "duration": 0.437592,
     "end_time": "2022-09-06T21:58:34.864209",
     "exception": false,
     "start_time": "2022-09-06T21:58:34.426617",
     "status": "completed"
    },
    "tags": []
   },
   "outputs": [
    {
     "data": {
      "image/png": "[encoded data removed]",
      "text/plain": [
       "<Figure size 1080x449.28 with 1 Axes>"
      ]
     },
     "metadata": {},
     "output_type": "display_data"
    }
   ],
   "source": [
    "sns.set_theme(style=\"whitegrid\")\n",
    "sns.set(rc={'figure.figsize':(15,6.24)})\n",
    "ax = sns.barplot(x=\"Winner\", y=\"goals_scored_1st_half\", data=goals_time.sort_values(by=['Home Team Goals'], ascending=False))"
   ]
  },
  {
   "cell_type": "code",
   "execution_count": 48,
   "id": "88dc32b7",
   "metadata": {
    "execution": {
     "iopub.execute_input": "2022-09-06T21:58:34.904218Z",
     "iopub.status.busy": "2022-09-06T21:58:34.903817Z",
     "iopub.status.idle": "2022-09-06T21:58:34.907904Z",
     "shell.execute_reply": "2022-09-06T21:58:34.906990Z"
    },
    "papermill": {
     "duration": 0.026514,
     "end_time": "2022-09-06T21:58:34.910022",
     "exception": false,
     "start_time": "2022-09-06T21:58:34.883508",
     "status": "completed"
    },
    "tags": []
   },
   "outputs": [],
   "source": [
    "# fig, ax1 = plt.subplots()\n",
    "\n",
    "# ax2 = ax1.twinx()\n",
    "# ax1.bar(x=goals_time[\"Winner\"], y=goals_time[\"goals_scored_1st_half\"])\n",
    "# ax2.bar(x=goals_time[\"Winner\"], y=goals[\"goals_scored_2nd_half\"])\n",
    "\n",
    "# ax1.set_xlabel('Winner')\n",
    "# ax1.set_ylabel('goals_scored_1st_half', color='g')\n",
    "# ax2.set_ylabel('goals_scored_2nd_half', color='b')\n",
    "\n",
    "# plt.show()"
   ]
  },
  {
   "cell_type": "code",
   "execution_count": 49,
   "id": "b544088e",
   "metadata": {
    "execution": {
     "iopub.execute_input": "2022-09-06T21:58:34.950692Z",
     "iopub.status.busy": "2022-09-06T21:58:34.949674Z",
     "iopub.status.idle": "2022-09-06T21:58:35.024137Z",
     "shell.execute_reply": "2022-09-06T21:58:35.022682Z"
    },
    "papermill": {
     "duration": 0.097781,
     "end_time": "2022-09-06T21:58:35.026964",
     "exception": false,
     "start_time": "2022-09-06T21:58:34.929183",
     "status": "completed"
    },
    "tags": []
   },
   "outputs": [
    {
     "name": "stdout",
     "output_type": "stream",
     "text": [
      "Goals received in first half vs second half by the winners\n"
     ]
    },
    {
     "data": {
      "text/html": [
       "<div>                            <div id=\"6f4b6856-c49e-4fb3-aeaf-a617c74b3871\" class=\"plotly-graph-div\" style=\"height:525px; width:100%;\"></div>            <script type=\"text/javascript\">                require([\"plotly\"], function(Plotly) {                    window.PLOTLYENV=window.PLOTLYENV || {};                                    if (document.getElementById(\"6f4b6856-c49e-4fb3-aeaf-a617c74b3871\")) {                    Plotly.newPlot(                        \"6f4b6856-c49e-4fb3-aeaf-a617c74b3871\",                        [{\"alignmentgroup\":\"True\",\"customdata\":[[\"Germany FR\"],[\"France\"],[\"Italy\"],[\"Germany\"],[\"Brazil\"],[\"Brazil\"],[\"Italy\"],[\"Brazil\"],[\"Argentina\"],[\"Spain\"],[\"Argentina\"],[\"Brazil\"],[\"England\"],[\"Brazil\"],[\"Uruguay\"],[\"Germany FR\"],[\"Italy\"],[\"Uruguay\"],[\"Germany FR\"],[\"Italy\"]],\"hovertemplate\":\"variable=goals_received_1st_half<br>Year=%{x}<br>value=%{y}<br>Winner=%{customdata[0]}<extra></extra>\",\"legendgroup\":\"goals_received_1st_half\",\"marker\":{\"color\":\"#636efa\",\"pattern\":{\"shape\":\"\"}},\"name\":\"goals_received_1st_half\",\"offsetgroup\":\"goals_received_1st_half\",\"orientation\":\"v\",\"showlegend\":true,\"textposition\":\"auto\",\"x\":[1954,1998,1982,2014,2002,1958,2006,1994,1978,2010,1986,1970,1966,1962,1950,1990,1938,1930,1974,1934],\"xaxis\":\"x\",\"y\":[13.0,27.0,15.0,46.0,26.0,20.0,30.0,23.0,14.0,28.0,23.0,11.0,11.0,10.0,8.0,12.0,10.0,5.0,24.0,9.0],\"yaxis\":\"y\",\"type\":\"bar\"},{\"alignmentgroup\":\"True\",\"customdata\":[[\"Germany FR\"],[\"France\"],[\"Italy\"],[\"Germany\"],[\"Brazil\"],[\"Brazil\"],[\"Italy\"],[\"Brazil\"],[\"Argentina\"],[\"Spain\"],[\"Argentina\"],[\"Brazil\"],[\"England\"],[\"Brazil\"],[\"Uruguay\"],[\"Germany FR\"],[\"Italy\"],[\"Uruguay\"],[\"Germany FR\"],[\"Italy\"]],\"hovertemplate\":\"variable=goals_received_2nd_half<br>Year=%{x}<br>value=%{y}<br>Winner=%{customdata[0]}<extra></extra>\",\"legendgroup\":\"goals_received_2nd_half\",\"marker\":{\"color\":\"#EF553B\",\"pattern\":{\"shape\":\"\"}},\"name\":\"goals_received_2nd_half\",\"offsetgroup\":\"goals_received_2nd_half\",\"orientation\":\"v\",\"showlegend\":true,\"textposition\":\"auto\",\"x\":[1954,1998,1982,2014,2002,1958,2006,1994,1978,2010,1986,1970,1966,1962,1950,1990,1938,1930,1974,1934],\"xaxis\":\"x\",\"y\":[18.0,46.0,34.0,59.0,46.0,18.0,31.0,35.0,9.0,41.0,35.0,12.0,9.0,10.0,11.0,36.0,13.0,6.0,22.0,13.0],\"yaxis\":\"y\",\"type\":\"bar\"}],                        {\"template\":{\"data\":{\"histogram2dcontour\":[{\"type\":\"histogram2dcontour\",\"colorbar\":{\"outlinewidth\":0,\"ticks\":\"\"},\"colorscale\":[[0.0,\"#0d0887\"],[0.1111111111111111,\"#46039f\"],[0.2222222222222222,\"#7201a8\"],[0.3333333333333333,\"#9c179e\"],[0.4444444444444444,\"#bd3786\"],[0.5555555555555556,\"#d8576b\"],[0.6666666666666666,\"#ed7953\"],[0.7777777777777778,\"#fb9f3a\"],[0.8888888888888888,\"#fdca26\"],[1.0,\"#f0f921\"]]}],\"choropleth\":[{\"type\":\"choropleth\",\"colorbar\":{\"outlinewidth\":0,\"ticks\":\"\"}}],\"histogram2d\":[{\"type\":\"histogram2d\",\"colorbar\":{\"outlinewidth\":0,\"ticks\":\"\"},\"colorscale\":[[0.0,\"#0d0887\"],[0.1111111111111111,\"#46039f\"],[0.2222222222222222,\"#7201a8\"],[0.3333333333333333,\"#9c179e\"],[0.4444444444444444,\"#bd3786\"],[0.5555555555555556,\"#d8576b\"],[0.6666666666666666,\"#ed7953\"],[0.7777777777777778,\"#fb9f3a\"],[0.8888888888888888,\"#fdca26\"],[1.0,\"#f0f921\"]]}],\"heatmap\":[{\"type\":\"heatmap\",\"colorbar\":{\"outlinewidth\":0,\"ticks\":\"\"},\"colorscale\":[[0.0,\"#0d0887\"],[0.1111111111111111,\"#46039f\"],[0.2222222222222222,\"#7201a8\"],[0.3333333333333333,\"#9c179e\"],[0.4444444444444444,\"#bd3786\"],[0.5555555555555556,\"#d8576b\"],[0.6666666666666666,\"#ed7953\"],[0.7777777777777778,\"#fb9f3a\"],[0.8888888888888888,\"#fdca26\"],[1.0,\"#f0f921\"]]}],\"heatmapgl\":[{\"type\":\"heatmapgl\",\"colorbar\":{\"outlinewidth\":0,\"ticks\":\"\"},\"colorscale\":[[0.0,\"#0d0887\"],[0.1111111111111111,\"#46039f\"],[0.2222222222222222,\"#7201a8\"],[0.3333333333333333,\"#9c179e\"],[0.4444444444444444,\"#bd3786\"],[0.5555555555555556,\"#d8576b\"],[0.6666666666666666,\"#ed7953\"],[0.7777777777777778,\"#fb9f3a\"],[0.8888888888888888,\"#fdca26\"],[1.0,\"#f0f921\"]]}],\"contourcarpet\":[{\"type\":\"contourcarpet\",\"colorbar\":{\"outlinewidth\":0,\"ticks\":\"\"}}],\"contour\":[{\"type\":\"contour\",\"colorbar\":{\"outlinewidth\":0,\"ticks\":\"\"},\"colorscale\":[[0.0,\"#0d0887\"],[0.1111111111111111,\"#46039f\"],[0.2222222222222222,\"#7201a8\"],[0.3333333333333333,\"#9c179e\"],[0.4444444444444444,\"#bd3786\"],[0.5555555555555556,\"#d8576b\"],[0.6666666666666666,\"#ed7953\"],[0.7777777777777778,\"#fb9f3a\"],[0.8888888888888888,\"#fdca26\"],[1.0,\"#f0f921\"]]}],\"surface\":[{\"type\":\"surface\",\"colorbar\":{\"outlinewidth\":0,\"ticks\":\"\"},\"colorscale\":[[0.0,\"#0d0887\"],[0.1111111111111111,\"#46039f\"],[0.2222222222222222,\"#7201a8\"],[0.3333333333333333,\"#9c179e\"],[0.4444444444444444,\"#bd3786\"],[0.5555555555555556,\"#d8576b\"],[0.6666666666666666,\"#ed7953\"],[0.7777777777777778,\"#fb9f3a\"],[0.8888888888888888,\"#fdca26\"],[1.0,\"#f0f921\"]]}],\"mesh3d\":[{\"type\":\"mesh3d\",\"colorbar\":{\"outlinewidth\":0,\"ticks\":\"\"}}],\"scatter\":[{\"fillpattern\":{\"fillmode\":\"overlay\",\"size\":10,\"solidity\":0.2},\"type\":\"scatter\"}],\"parcoords\":[{\"type\":\"parcoords\",\"line\":{\"colorbar\":{\"outlinewidth\":0,\"ticks\":\"\"}}}],\"scatterpolargl\":[{\"type\":\"scatterpolargl\",\"marker\":{\"colorbar\":{\"outlinewidth\":0,\"ticks\":\"\"}}}],\"bar\":[{\"error_x\":{\"color\":\"#2a3f5f\"},\"error_y\":{\"color\":\"#2a3f5f\"},\"marker\":{\"line\":{\"color\":\"#E5ECF6\",\"width\":0.5},\"pattern\":{\"fillmode\":\"overlay\",\"size\":10,\"solidity\":0.2}},\"type\":\"bar\"}],\"scattergeo\":[{\"type\":\"scattergeo\",\"marker\":{\"colorbar\":{\"outlinewidth\":0,\"ticks\":\"\"}}}],\"scatterpolar\":[{\"type\":\"scatterpolar\",\"marker\":{\"colorbar\":{\"outlinewidth\":0,\"ticks\":\"\"}}}],\"histogram\":[{\"marker\":{\"pattern\":{\"fillmode\":\"overlay\",\"size\":10,\"solidity\":0.2}},\"type\":\"histogram\"}],\"scattergl\":[{\"type\":\"scattergl\",\"marker\":{\"colorbar\":{\"outlinewidth\":0,\"ticks\":\"\"}}}],\"scatter3d\":[{\"type\":\"scatter3d\",\"line\":{\"colorbar\":{\"outlinewidth\":0,\"ticks\":\"\"}},\"marker\":{\"colorbar\":{\"outlinewidth\":0,\"ticks\":\"\"}}}],\"scattermapbox\":[{\"type\":\"scattermapbox\",\"marker\":{\"colorbar\":{\"outlinewidth\":0,\"ticks\":\"\"}}}],\"scatterternary\":[{\"type\":\"scatterternary\",\"marker\":{\"colorbar\":{\"outlinewidth\":0,\"ticks\":\"\"}}}],\"scattercarpet\":[{\"type\":\"scattercarpet\",\"marker\":{\"colorbar\":{\"outlinewidth\":0,\"ticks\":\"\"}}}],\"carpet\":[{\"aaxis\":{\"endlinecolor\":\"#2a3f5f\",\"gridcolor\":\"white\",\"linecolor\":\"white\",\"minorgridcolor\":\"white\",\"startlinecolor\":\"#2a3f5f\"},\"baxis\":{\"endlinecolor\":\"#2a3f5f\",\"gridcolor\":\"white\",\"linecolor\":\"white\",\"minorgridcolor\":\"white\",\"startlinecolor\":\"#2a3f5f\"},\"type\":\"carpet\"}],\"table\":[{\"cells\":{\"fill\":{\"color\":\"#EBF0F8\"},\"line\":{\"color\":\"white\"}},\"header\":{\"fill\":{\"color\":\"#C8D4E3\"},\"line\":{\"color\":\"white\"}},\"type\":\"table\"}],\"barpolar\":[{\"marker\":{\"line\":{\"color\":\"#E5ECF6\",\"width\":0.5},\"pattern\":{\"fillmode\":\"overlay\",\"size\":10,\"solidity\":0.2}},\"type\":\"barpolar\"}],\"pie\":[{\"automargin\":true,\"type\":\"pie\"}]},\"layout\":{\"autotypenumbers\":\"strict\",\"colorway\":[\"#636efa\",\"#EF553B\",\"#00cc96\",\"#ab63fa\",\"#FFA15A\",\"#19d3f3\",\"#FF6692\",\"#B6E880\",\"#FF97FF\",\"#FECB52\"],\"font\":{\"color\":\"#2a3f5f\"},\"hovermode\":\"closest\",\"hoverlabel\":{\"align\":\"left\"},\"paper_bgcolor\":\"white\",\"plot_bgcolor\":\"#E5ECF6\",\"polar\":{\"bgcolor\":\"#E5ECF6\",\"angularaxis\":{\"gridcolor\":\"white\",\"linecolor\":\"white\",\"ticks\":\"\"},\"radialaxis\":{\"gridcolor\":\"white\",\"linecolor\":\"white\",\"ticks\":\"\"}},\"ternary\":{\"bgcolor\":\"#E5ECF6\",\"aaxis\":{\"gridcolor\":\"white\",\"linecolor\":\"white\",\"ticks\":\"\"},\"baxis\":{\"gridcolor\":\"white\",\"linecolor\":\"white\",\"ticks\":\"\"},\"caxis\":{\"gridcolor\":\"white\",\"linecolor\":\"white\",\"ticks\":\"\"}},\"coloraxis\":{\"colorbar\":{\"outlinewidth\":0,\"ticks\":\"\"}},\"colorscale\":{\"sequential\":[[0.0,\"#0d0887\"],[0.1111111111111111,\"#46039f\"],[0.2222222222222222,\"#7201a8\"],[0.3333333333333333,\"#9c179e\"],[0.4444444444444444,\"#bd3786\"],[0.5555555555555556,\"#d8576b\"],[0.6666666666666666,\"#ed7953\"],[0.7777777777777778,\"#fb9f3a\"],[0.8888888888888888,\"#fdca26\"],[1.0,\"#f0f921\"]],\"sequentialminus\":[[0.0,\"#0d0887\"],[0.1111111111111111,\"#46039f\"],[0.2222222222222222,\"#7201a8\"],[0.3333333333333333,\"#9c179e\"],[0.4444444444444444,\"#bd3786\"],[0.5555555555555556,\"#d8576b\"],[0.6666666666666666,\"#ed7953\"],[0.7777777777777778,\"#fb9f3a\"],[0.8888888888888888,\"#fdca26\"],[1.0,\"#f0f921\"]],\"diverging\":[[0,\"#8e0152\"],[0.1,\"#c51b7d\"],[0.2,\"#de77ae\"],[0.3,\"#f1b6da\"],[0.4,\"#fde0ef\"],[0.5,\"#f7f7f7\"],[0.6,\"#e6f5d0\"],[0.7,\"#b8e186\"],[0.8,\"#7fbc41\"],[0.9,\"#4d9221\"],[1,\"#276419\"]]},\"xaxis\":{\"gridcolor\":\"white\",\"linecolor\":\"white\",\"ticks\":\"\",\"title\":{\"standoff\":15},\"zerolinecolor\":\"white\",\"automargin\":true,\"zerolinewidth\":2},\"yaxis\":{\"gridcolor\":\"white\",\"linecolor\":\"white\",\"ticks\":\"\",\"title\":{\"standoff\":15},\"zerolinecolor\":\"white\",\"automargin\":true,\"zerolinewidth\":2},\"scene\":{\"xaxis\":{\"backgroundcolor\":\"#E5ECF6\",\"gridcolor\":\"white\",\"linecolor\":\"white\",\"showbackground\":true,\"ticks\":\"\",\"zerolinecolor\":\"white\",\"gridwidth\":2},\"yaxis\":{\"backgroundcolor\":\"#E5ECF6\",\"gridcolor\":\"white\",\"linecolor\":\"white\",\"showbackground\":true,\"ticks\":\"\",\"zerolinecolor\":\"white\",\"gridwidth\":2},\"zaxis\":{\"backgroundcolor\":\"#E5ECF6\",\"gridcolor\":\"white\",\"linecolor\":\"white\",\"showbackground\":true,\"ticks\":\"\",\"zerolinecolor\":\"white\",\"gridwidth\":2}},\"shapedefaults\":{\"line\":{\"color\":\"#2a3f5f\"}},\"annotationdefaults\":{\"arrowcolor\":\"#2a3f5f\",\"arrowhead\":0,\"arrowwidth\":1},\"geo\":{\"bgcolor\":\"white\",\"landcolor\":\"#E5ECF6\",\"subunitcolor\":\"white\",\"showland\":true,\"showlakes\":true,\"lakecolor\":\"white\"},\"title\":{\"x\":0.05},\"mapbox\":{\"style\":\"light\"}}},\"xaxis\":{\"anchor\":\"y\",\"domain\":[0.0,1.0],\"title\":{\"text\":\"Year\"}},\"yaxis\":{\"anchor\":\"x\",\"domain\":[0.0,1.0],\"title\":{\"text\":\"value\"}},\"legend\":{\"title\":{\"text\":\"variable\"},\"tracegroupgap\":0},\"margin\":{\"t\":60},\"barmode\":\"group\"},                        {\"responsive\": true}                    ).then(function(){\n",
       "                            \n",
       "var gd = document.getElementById('6f4b6856-c49e-4fb3-aeaf-a617c74b3871');\n",
       "var x = new MutationObserver(function (mutations, observer) {{\n",
       "        var display = window.getComputedStyle(gd).display;\n",
       "        if (!display || display === 'none') {{\n",
       "            console.log([gd, 'removed!']);\n",
       "            Plotly.purge(gd);\n",
       "            observer.disconnect();\n",
       "        }}\n",
       "}});\n",
       "\n",
       "// Listen for the removal of the full notebook cells\n",
       "var notebookContainer = gd.closest('#notebook-container');\n",
       "if (notebookContainer) {{\n",
       "    x.observe(notebookContainer, {childList: true});\n",
       "}}\n",
       "\n",
       "// Listen for the clearing of the current output cell\n",
       "var outputEl = gd.closest('.output');\n",
       "if (outputEl) {{\n",
       "    x.observe(outputEl, {childList: true});\n",
       "}}\n",
       "\n",
       "                        })                };                });            </script>        </div>"
      ]
     },
     "metadata": {},
     "output_type": "display_data"
    }
   ],
   "source": [
    "print('Goals received in first half vs second half by the winners')\n",
    "px.bar(goals_time.sort_values(by=['Home Team Goals'], ascending=False),x='Year',y=['goals_received_1st_half','goals_received_2nd_half'], barmode='group',hover_data=['Winner'] )\n"
   ]
  },
  {
   "cell_type": "code",
   "execution_count": null,
   "id": "72dee2af",
   "metadata": {
    "papermill": {
     "duration": 0.018965,
     "end_time": "2022-09-06T21:58:35.066432",
     "exception": false,
     "start_time": "2022-09-06T21:58:35.047467",
     "status": "completed"
    },
    "tags": []
   },
   "outputs": [],
   "source": []
  }
 ],
 "metadata": {
  "kernelspec": {
   "display_name": "Python 3",
   "language": "python",
   "name": "python3"
  },
  "language_info": {
   "codemirror_mode": {
    "name": "ipython",
    "version": 3
   },
   "file_extension": ".py",
   "mimetype": "text/x-python",
   "name": "python",
   "nbconvert_exporter": "python",
   "pygments_lexer": "ipython3",
   "version": "3.7.12"
  },
  "papermill": {
   "default_parameters": {},
   "duration": 17.335838,
   "end_time": "2022-09-06T21:58:35.908654",
   "environment_variables": {},
   "exception": null,
   "input_path": "__notebook__.ipynb",
   "output_path": "__notebook__.ipynb",
   "parameters": {},
   "start_time": "2022-09-06T21:58:18.572816",
   "version": "2.3.4"
  }
 },
 "nbformat": 4,
 "nbformat_minor": 5
}
